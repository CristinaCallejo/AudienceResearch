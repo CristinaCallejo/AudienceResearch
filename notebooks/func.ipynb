{
 "cells": [
  {
   "cell_type": "markdown",
   "metadata": {},
   "source": [
    "# func"
   ]
  },
  {
   "cell_type": "code",
   "execution_count": 5,
   "metadata": {},
   "outputs": [],
   "source": [
    "import numpy as np\n",
    "import pandas as pd\n",
    "import sys\n",
    "sys.path.append('../src')"
   ]
  },
  {
   "cell_type": "code",
   "execution_count": 6,
   "metadata": {},
   "outputs": [],
   "source": [
    "def import_csv (string):\n",
    "    dataframe_orig = pd.read_csv(string,encoding = \"ISO-8859-1\")\n",
    "    return dataframe_orig"
   ]
  },
  {
   "cell_type": "code",
   "execution_count": 7,
   "metadata": {},
   "outputs": [],
   "source": [
    "def export_df_to_csv(dataframe):\n",
    "    dataframe.to_csv(\"../data_processed/dataframe_v1.csv\",index = False)\n",
    "    if True:\n",
    "        print('Attention: Export succesfull')\n",
    "        print(\"Attention: File exported correctly\")"
   ]
  },
  {
   "cell_type": "code",
   "execution_count": 8,
   "metadata": {},
   "outputs": [],
   "source": [
    "def import_xls_to_csv (string):\n",
    "    string_csv = string.replace('.xls','.csv')\n",
    "    read_file = pd.read_excel (string)\n",
    "    read_file.to_csv (string_csv,\n",
    "                  index = None,\n",
    "                  header=True)\n",
    "    dataframe_updated = pd.DataFrame(pd.read_csv(string_csv))\n",
    "    #print(\"dataset imported to .csv, assigned to variable: 'dataframe', please call function again by assigning it to 'dataframe'\")\n",
    "    return dataframe_updated\n"
   ]
  },
  {
   "cell_type": "code",
   "execution_count": 9,
   "metadata": {},
   "outputs": [],
   "source": [
    "def remove_empty_and_duplicate_rows(dataframe):\n",
    "    print('dataframe original shape is: ',dataframe.shape)\n",
    "    dataframe.dropna(how=\"all\",inplace = True)\n",
    "    print('dataframe shape after removing empty rows is: ',dataframe.shape)\n",
    "    dataframe.drop_duplicates(keep=False, inplace = True, ignore_index = True)\n",
    "    print('dataframe shape after removing duplicate rows is: ',dataframe.shape)\n",
    "    return dataframe"
   ]
  },
  {
   "cell_type": "code",
   "execution_count": 10,
   "metadata": {},
   "outputs": [],
   "source": [
    "def remove_unnecessary_columns(droppable_columns,data1):\n",
    "    data1 = data1.drop(columns = droppable_columns,inplace=True)\n",
    "    return data1"
   ]
  },
  {
   "cell_type": "code",
   "execution_count": 11,
   "metadata": {},
   "outputs": [],
   "source": [
    "def rename_columns(data1):\n",
    "    renamable_columns = list(data1.columns)\n",
    "    renamed_columns = ['NEW' if each == 'Fatal (Y/N)' else str(each).lower().strip().replace(\" \",\"_\") for each in renamable_columns]\n",
    "    data1.columns = renamed_columns\n",
    "    return data1"
   ]
  },
  {
   "cell_type": "code",
   "execution_count": 12,
   "metadata": {},
   "outputs": [],
   "source": [
    "def change__to_dtype_category(list):\n",
    "    for df in list:\n",
    "        if df.column.dtype == 'object':\n",
    "            df[i] = df_2019.apply(lambda x: x.astype('category')).type\n",
    "            pass"
   ]
  },
  {
   "cell_type": "code",
   "execution_count": null,
   "metadata": {},
   "outputs": [],
   "source": []
  }
 ],
 "metadata": {
  "kernelspec": {
   "display_name": "Python (end)",
   "language": "python",
   "name": "end"
  },
  "language_info": {
   "codemirror_mode": {
    "name": "ipython",
    "version": 3
   },
   "file_extension": ".py",
   "mimetype": "text/x-python",
   "name": "python",
   "nbconvert_exporter": "python",
   "pygments_lexer": "ipython3",
   "version": "3.9.4"
  },
  "toc": {
   "base_numbering": 1,
   "nav_menu": {},
   "number_sections": false,
   "sideBar": true,
   "skip_h1_title": false,
   "title_cell": "Table of Contents",
   "title_sidebar": "Contents",
   "toc_cell": false,
   "toc_position": {},
   "toc_section_display": true,
   "toc_window_display": false
  },
  "varInspector": {
   "cols": {
    "lenName": 16,
    "lenType": 16,
    "lenVar": 40
   },
   "kernels_config": {
    "python": {
     "delete_cmd_postfix": "",
     "delete_cmd_prefix": "del ",
     "library": "var_list.py",
     "varRefreshCmd": "print(var_dic_list())"
    },
    "r": {
     "delete_cmd_postfix": ") ",
     "delete_cmd_prefix": "rm(",
     "library": "var_list.r",
     "varRefreshCmd": "cat(var_dic_list()) "
    }
   },
   "types_to_exclude": [
    "module",
    "function",
    "builtin_function_or_method",
    "instance",
    "_Feature"
   ],
   "window_display": false
  }
 },
 "nbformat": 4,
 "nbformat_minor": 4
}
