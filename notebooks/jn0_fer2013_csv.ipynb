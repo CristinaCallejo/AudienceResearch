{
 "cells": [
  {
   "cell_type": "code",
   "execution_count": 360,
   "id": "4d8927bd",
   "metadata": {},
   "outputs": [],
   "source": [
    "import numpy as np\n",
    "import pandas as pd\n",
    "\n",
    "import os\n",
    "#os.sys.path\n",
    "import sys\n",
    "sys.path.append('../src')\n",
    "\n",
    "from pathlib import Path\n",
    "\n",
    "from PIL import Image\n",
    "import cv2\n",
    "import matplotlib.pyplot as plt\n",
    "import matplotlib.image as imgplt\n",
    "import code1_data as go"
   ]
  },
  {
   "cell_type": "code",
   "execution_count": null,
   "id": "9bdfaa0e",
   "metadata": {},
   "outputs": [],
   "source": []
  },
  {
   "cell_type": "code",
   "execution_count": 361,
   "id": "040f8055",
   "metadata": {},
   "outputs": [
    {
     "name": "stdout",
     "output_type": "stream",
     "text": [
      "\u001b[01;34m..\u001b[00m\r\n",
      "├── \u001b[01;35m0.jpg\u001b[00m\r\n",
      "├── README.md\r\n",
      "├── \u001b[01;34mdemo\u001b[00m\r\n",
      "│   ├── \u001b[01;35m0.jpg\u001b[00m\r\n",
      "│   ├── \u001b[01;35mdemooo_01.jpg\u001b[00m\r\n",
      "│   ├── \u001b[01;35mdemooo_02.jpg\u001b[00m\r\n",
      "│   └── \u001b[01;35mdemooo_03.jpg\u001b[00m\r\n",
      "├── \u001b[01;34mdemo_faces\u001b[00m\r\n",
      "│   ├── \u001b[01;35m0_face1.jpg\u001b[00m\r\n",
      "│   ├── \u001b[01;35mdemooo_01_face1.jpg\u001b[00m\r\n",
      "│   ├── \u001b[01;35mdemooo_02_face1.jpg\u001b[00m\r\n",
      "│   └── \u001b[01;35mdemooo_03_face1.jpg\u001b[00m\r\n",
      "├── \u001b[01;34mface_recog_library_demo\u001b[00m\r\n",
      "│   ├── \u001b[01;35mdemo_01.jpg\u001b[00m\r\n",
      "│   ├── \u001b[01;35mdemo_01_face1.jpg\u001b[00m\r\n",
      "│   ├── \u001b[01;35mdemo_01_face2.jpg\u001b[00m\r\n",
      "│   ├── \u001b[01;35mdemo_01_face3.jpg\u001b[00m\r\n",
      "│   ├── \u001b[01;35mdemo_01_face4.jpg\u001b[00m\r\n",
      "│   ├── \u001b[01;35mdemo_01_face5.jpg\u001b[00m\r\n",
      "│   ├── \u001b[01;35mdemo_01_face6.jpg\u001b[00m\r\n",
      "│   ├── \u001b[01;35mdemo_02.jpg\u001b[00m\r\n",
      "│   ├── \u001b[01;35mdemo_02_face1.jpg\u001b[00m\r\n",
      "│   ├── \u001b[01;35mdemo_02_face2.jpg\u001b[00m\r\n",
      "│   ├── \u001b[01;35mdemo_02_face3.jpg\u001b[00m\r\n",
      "│   ├── \u001b[01;35mdemo_02_face4.jpg\u001b[00m\r\n",
      "│   ├── \u001b[01;35mdemo_03.jpg\u001b[00m\r\n",
      "│   ├── \u001b[01;35mdemo_03_face1.jpg\u001b[00m\r\n",
      "│   ├── \u001b[01;35mdemo_03_face2.jpg\u001b[00m\r\n",
      "│   ├── \u001b[01;35mdemo_04.jpg\u001b[00m\r\n",
      "│   ├── \u001b[01;35mdemo_04_face1.jpg\u001b[00m\r\n",
      "│   ├── \u001b[01;35mdemo_05.jpg\u001b[00m\r\n",
      "│   ├── \u001b[01;35mdemo_05_face1.jpg\u001b[00m\r\n",
      "│   ├── \u001b[01;35mdemo_05_face2.jpg\u001b[00m\r\n",
      "│   ├── \u001b[01;35mdemo_05_face3.jpg\u001b[00m\r\n",
      "│   ├── \u001b[01;35mdemo_05_face4.jpg\u001b[00m\r\n",
      "│   ├── \u001b[01;35mdemo_06.jpg\u001b[00m\r\n",
      "│   ├── \u001b[01;35mdemo_06_face1.jpg\u001b[00m\r\n",
      "│   ├── \u001b[01;35mdemo_06_face2.jpg\u001b[00m\r\n",
      "│   ├── \u001b[01;35mdemo_07.jpg\u001b[00m\r\n",
      "│   ├── \u001b[01;35mdemo_07_face1.jpg\u001b[00m\r\n",
      "│   ├── \u001b[01;35mdemo_07_face2.jpg\u001b[00m\r\n",
      "│   ├── \u001b[01;35mdemo_08.jpg\u001b[00m\r\n",
      "│   ├── \u001b[01;35mdemo_08_face1.jpg\u001b[00m\r\n",
      "│   ├── \u001b[01;35mdemo_08_face2.jpg\u001b[00m\r\n",
      "│   ├── \u001b[01;35mdemo_08_face3.jpg\u001b[00m\r\n",
      "│   ├── \u001b[01;35mdemo_09.jpg\u001b[00m\r\n",
      "│   ├── \u001b[01;35mdemo_09_face1.jpg\u001b[00m\r\n",
      "│   ├── \u001b[01;35mdemo_09_face2.jpg\u001b[00m\r\n",
      "│   ├── \u001b[01;35mdemo_09_face3.jpg\u001b[00m\r\n",
      "│   ├── \u001b[01;35mdemo_09_face4.jpg\u001b[00m\r\n",
      "│   └── \u001b[01;35mdemo_10.jpg\u001b[00m\r\n",
      "├── \u001b[01;34mface_recog_library_demo_faces\u001b[00m\r\n",
      "├── \u001b[01;34mhaar_cascade_classifier_demo\u001b[00m\r\n",
      "│   ├── \u001b[01;35mdemo_01.jpg\u001b[00m\r\n",
      "│   ├── \u001b[01;35mdemo_02.jpg\u001b[00m\r\n",
      "│   ├── \u001b[01;35mdemo_03.jpg\u001b[00m\r\n",
      "│   ├── \u001b[01;35mdemo_04.jpg\u001b[00m\r\n",
      "│   ├── \u001b[01;35mdemo_05.jpg\u001b[00m\r\n",
      "│   ├── \u001b[01;35mdemo_06.jpg\u001b[00m\r\n",
      "│   ├── \u001b[01;35mdemo_07.jpg\u001b[00m\r\n",
      "│   ├── \u001b[01;35mdemo_08.jpg\u001b[00m\r\n",
      "│   ├── \u001b[01;35mdemo_09.jpg\u001b[00m\r\n",
      "│   └── \u001b[01;32mdemo_10.jpg\u001b[00m\r\n",
      "├── \u001b[01;34mhaar_cascade_classifier_demo_faces\u001b[00m\r\n",
      "│   ├── \u001b[01;35mdemo_01_face1.jpg\u001b[00m\r\n",
      "│   ├── \u001b[01;35mdemo_02_face1.jpg\u001b[00m\r\n",
      "│   ├── \u001b[01;35mdemo_03_face1.jpg\u001b[00m\r\n",
      "│   ├── \u001b[01;35mdemo_04_face1.jpg\u001b[00m\r\n",
      "│   ├── \u001b[01;35mdemo_05_face1.jpg\u001b[00m\r\n",
      "│   ├── \u001b[01;35mdemo_06_face1.jpg\u001b[00m\r\n",
      "│   ├── \u001b[01;35mdemo_07_face1.jpg\u001b[00m\r\n",
      "│   ├── \u001b[01;35mdemo_08_face1.jpg\u001b[00m\r\n",
      "│   ├── \u001b[01;35mdemo_09_face1.jpg\u001b[00m\r\n",
      "│   ├── \u001b[01;35mdemo_10_face1.jpg\u001b[00m\r\n",
      "│   ├── \u001b[01;35mdemo_1_face1.jpg\u001b[00m\r\n",
      "│   ├── \u001b[01;35mdemo_1_face2.jpg\u001b[00m\r\n",
      "│   ├── \u001b[01;35mdemo_1_face3.jpg\u001b[00m\r\n",
      "│   ├── \u001b[01;35mdemo_1_face4.jpg\u001b[00m\r\n",
      "│   ├── \u001b[01;35mdemo_1_face5.jpg\u001b[00m\r\n",
      "│   ├── \u001b[01;35mdemo_2_face1.jpg\u001b[00m\r\n",
      "│   ├── \u001b[01;35mdemo_2_face5.jpg\u001b[00m\r\n",
      "│   ├── \u001b[01;35mdemo_2_face6.jpg\u001b[00m\r\n",
      "│   ├── \u001b[01;35mdemo_2_face7.jpg\u001b[00m\r\n",
      "│   ├── \u001b[01;35mdemo_3_face1.jpg\u001b[00m\r\n",
      "│   ├── \u001b[01;35mdemo_3_face10.jpg\u001b[00m\r\n",
      "│   ├── \u001b[01;35mdemo_3_face7.jpg\u001b[00m\r\n",
      "│   ├── \u001b[01;35mdemo_3_face8.jpg\u001b[00m\r\n",
      "│   ├── \u001b[01;35mdemo_3_face9.jpg\u001b[00m\r\n",
      "│   ├── \u001b[01;35mdemo_4_face1.jpg\u001b[00m\r\n",
      "│   ├── \u001b[01;35mdemo_4_face11.jpg\u001b[00m\r\n",
      "│   ├── \u001b[01;35mdemo_4_face12.jpg\u001b[00m\r\n",
      "│   ├── \u001b[01;35mdemo_4_face8.jpg\u001b[00m\r\n",
      "│   ├── \u001b[01;35mdemo_4_face9.jpg\u001b[00m\r\n",
      "│   ├── \u001b[01;35mdemo_5_face1.jpg\u001b[00m\r\n",
      "│   ├── \u001b[01;35mdemo_5_face10.jpg\u001b[00m\r\n",
      "│   ├── \u001b[01;35mdemo_5_face11.jpg\u001b[00m\r\n",
      "│   ├── \u001b[01;35mdemo_5_face12.jpg\u001b[00m\r\n",
      "│   ├── \u001b[01;35mdemo_5_face13.jpg\u001b[00m\r\n",
      "│   ├── \u001b[01;35mdemo_5_face14.jpg\u001b[00m\r\n",
      "│   ├── \u001b[01;35mdemo_5_face15.jpg\u001b[00m\r\n",
      "│   ├── \u001b[01;35mdemo_5_face16.jpg\u001b[00m\r\n",
      "│   ├── \u001b[01;35mdemo_5_face17.jpg\u001b[00m\r\n",
      "│   ├── \u001b[01;35mdemo_6_face1.jpg\u001b[00m\r\n",
      "│   ├── \u001b[01;35mdemo_6_face15.jpg\u001b[00m\r\n",
      "│   ├── \u001b[01;35mdemo_6_face16.jpg\u001b[00m\r\n",
      "│   ├── \u001b[01;35mdemo_6_face18.jpg\u001b[00m\r\n",
      "│   ├── \u001b[01;35mdemo_6_face19.jpg\u001b[00m\r\n",
      "│   ├── \u001b[01;35mdemo_7_face1.jpg\u001b[00m\r\n",
      "│   ├── \u001b[01;35mdemo_7_face17.jpg\u001b[00m\r\n",
      "│   ├── \u001b[01;35mdemo_7_face18.jpg\u001b[00m\r\n",
      "│   ├── \u001b[01;35mdemo_7_face19.jpg\u001b[00m\r\n",
      "│   ├── \u001b[01;35mdemo_7_face20.jpg\u001b[00m\r\n",
      "│   ├── \u001b[01;35mdemo_7_face21.jpg\u001b[00m\r\n",
      "│   └── \u001b[01;35mdemo_7_face22.jpg\u001b[00m\r\n",
      "├── \u001b[01;34mimgs\u001b[00m\r\n",
      "│   ├── \u001b[01;35mim_01.jpg\u001b[00m\r\n",
      "│   ├── \u001b[01;35mim_02.jpg\u001b[00m\r\n",
      "│   ├── \u001b[01;35mim_03.jpg\u001b[00m\r\n",
      "│   ├── \u001b[01;35mim_04.jpg\u001b[00m\r\n",
      "│   ├── \u001b[01;35mim_05.jpg\u001b[00m\r\n",
      "│   ├── \u001b[01;35mim_06.jpg\u001b[00m\r\n",
      "│   ├── \u001b[01;35mim_07.jpg\u001b[00m\r\n",
      "│   ├── \u001b[01;35mim_08.jpg\u001b[00m\r\n",
      "│   ├── \u001b[01;35mim_09.jpg\u001b[00m\r\n",
      "│   ├── \u001b[01;35mim_10.jpg\u001b[00m\r\n",
      "│   ├── \u001b[01;35mim_11.jpg\u001b[00m\r\n",
      "│   ├── \u001b[01;35mim_12.jpg\u001b[00m\r\n",
      "│   ├── \u001b[01;35mim_13.jpg\u001b[00m\r\n",
      "│   ├── \u001b[01;35mim_16.jpg\u001b[00m\r\n",
      "│   ├── \u001b[01;35mim_17.jpg\u001b[00m\r\n",
      "│   ├── \u001b[01;35mim_18.jpg\u001b[00m\r\n",
      "│   ├── \u001b[01;35mim_19.jpg\u001b[00m\r\n",
      "│   ├── \u001b[01;35mim_20\\ copy.jpg\u001b[00m\r\n",
      "│   ├── \u001b[01;35mim_20.jpg\u001b[00m\r\n",
      "│   ├── \u001b[01;35mim_21.jpg\u001b[00m\r\n",
      "│   ├── \u001b[01;35mim_22.jpg\u001b[00m\r\n",
      "│   ├── \u001b[01;32mim_23.jpg\u001b[00m\r\n",
      "│   ├── \u001b[01;35mim_24.jpg\u001b[00m\r\n",
      "│   ├── \u001b[01;32mim_25.jpg\u001b[00m\r\n",
      "│   ├── \u001b[01;35mim_26.jpg\u001b[00m\r\n",
      "│   ├── \u001b[01;35mim_27.jpg\u001b[00m\r\n",
      "│   ├── \u001b[01;35mim_28.jpg\u001b[00m\r\n",
      "│   ├── \u001b[01;35mim_29.jpg\u001b[00m\r\n",
      "│   ├── \u001b[01;35mim_30.jpg\u001b[00m\r\n",
      "│   ├── \u001b[01;35mim_31.jpg\u001b[00m\r\n",
      "│   ├── \u001b[01;35mim_32.jpg\u001b[00m\r\n",
      "│   ├── \u001b[01;35mim_33.jpg\u001b[00m\r\n",
      "│   ├── \u001b[01;35mim_34.jpg\u001b[00m\r\n",
      "│   ├── \u001b[01;35mim_35.jpg\u001b[00m\r\n",
      "│   ├── \u001b[01;35mim_36.jpg\u001b[00m\r\n",
      "│   ├── \u001b[01;35mim_37.jpg\u001b[00m\r\n",
      "│   └── \u001b[01;35mim_38.jpg\u001b[00m\r\n",
      "├── \u001b[01;34mimgs_faces\u001b[00m\r\n",
      "│   ├── \u001b[01;35mim_01_face1.jpg\u001b[00m\r\n",
      "│   ├── \u001b[01;35mim_02_face1.jpg\u001b[00m\r\n",
      "│   ├── \u001b[01;35mim_03_face1.jpg\u001b[00m\r\n",
      "│   ├── \u001b[01;35mim_04_face1.jpg\u001b[00m\r\n",
      "│   ├── \u001b[01;35mim_06_face1.jpg\u001b[00m\r\n",
      "│   ├── \u001b[01;35mim_07_face1.jpg\u001b[00m\r\n",
      "│   ├── \u001b[01;35mim_08_face1.jpg\u001b[00m\r\n",
      "│   ├── \u001b[01;35mim_09_face1.jpg\u001b[00m\r\n",
      "│   ├── \u001b[01;35mim_09_face2.jpg\u001b[00m\r\n",
      "│   ├── \u001b[01;35mim_09_face3.jpg\u001b[00m\r\n",
      "│   ├── \u001b[01;35mim_10_face1.jpg\u001b[00m\r\n",
      "│   ├── \u001b[01;35mim_10_face2.jpg\u001b[00m\r\n",
      "│   ├── \u001b[01;35mim_10_face3.jpg\u001b[00m\r\n",
      "│   ├── \u001b[01;35mim_10_face4.jpg\u001b[00m\r\n",
      "│   ├── \u001b[01;35mim_11_face1.jpg\u001b[00m\r\n",
      "│   ├── \u001b[01;35mim_12_face1.jpg\u001b[00m\r\n",
      "│   ├── \u001b[01;35mim_12_face2.jpg\u001b[00m\r\n",
      "│   ├── \u001b[01;35mim_12_face3.jpg\u001b[00m\r\n",
      "│   ├── \u001b[01;35mim_16_face1.jpg\u001b[00m\r\n",
      "│   ├── \u001b[01;35mim_16_face2.jpg\u001b[00m\r\n",
      "│   ├── \u001b[01;35mim_16_face3.jpg\u001b[00m\r\n",
      "│   ├── \u001b[01;35mim_16_face4.jpg\u001b[00m\r\n",
      "│   ├── \u001b[01;35mim_16_face5.jpg\u001b[00m\r\n",
      "│   ├── \u001b[01;35mim_16_face6.jpg\u001b[00m\r\n",
      "│   ├── \u001b[01;35mim_20\\ copy_face1.jpg\u001b[00m\r\n",
      "│   ├── \u001b[01;35mim_20\\ copy_face2.jpg\u001b[00m\r\n",
      "│   ├── \u001b[01;35mim_20_face1.jpg\u001b[00m\r\n",
      "│   ├── \u001b[01;35mim_20_face2.jpg\u001b[00m\r\n",
      "│   ├── \u001b[01;35mim_21_face1.jpg\u001b[00m\r\n",
      "│   ├── \u001b[01;35mim_23_face1.jpg\u001b[00m\r\n",
      "│   ├── \u001b[01;35mim_24_face1.jpg\u001b[00m\r\n",
      "│   ├── \u001b[01;35mim_25_face1.jpg\u001b[00m\r\n",
      "│   ├── \u001b[01;35mim_25_face2.jpg\u001b[00m\r\n",
      "│   ├── \u001b[01;35mim_27_face1.jpg\u001b[00m\r\n",
      "│   ├── \u001b[01;35mim_28_face1.jpg\u001b[00m\r\n",
      "│   ├── \u001b[01;35mim_28_face2.jpg\u001b[00m\r\n",
      "│   ├── \u001b[01;35mim_29_face1.jpg\u001b[00m\r\n",
      "│   ├── \u001b[01;35mim_30_face1.jpg\u001b[00m\r\n",
      "│   ├── \u001b[01;35mim_31_face1.jpg\u001b[00m\r\n",
      "│   ├── \u001b[01;35mim_32_face1.jpg\u001b[00m\r\n",
      "│   ├── \u001b[01;35mim_33_face1.jpg\u001b[00m\r\n",
      "│   ├── \u001b[01;35mim_34_face1.jpg\u001b[00m\r\n",
      "│   ├── \u001b[01;35mim_35_face1.jpg\u001b[00m\r\n",
      "│   ├── \u001b[01;35mim_36_face1.jpg\u001b[00m\r\n",
      "│   ├── \u001b[01;35mim_36_face2.jpg\u001b[00m\r\n",
      "│   ├── \u001b[01;35mim_37_face1.jpg\u001b[00m\r\n",
      "│   ├── \u001b[01;35mim_38_face1.jpg\u001b[00m\r\n",
      "│   └── \u001b[01;35mim_38_face2.jpg\u001b[00m\r\n",
      "├── \u001b[01;34mnotebooks\u001b[00m\r\n",
      "│   ├── Project\\ Validation.ipynb\r\n",
      "│   ├── func.ipynb\r\n",
      "│   ├── jn0_fer2013_csv.ipynb\r\n",
      "│   ├── jn1.ipynb\r\n",
      "│   ├── jn2.ipynb\r\n",
      "│   ├── jn3_haarcascade.ipynb\r\n",
      "│   ├── jn4\\ face_recognition_library.ipynb\r\n",
      "│   ├── testing_models1.ipynb\r\n",
      "│   └── training_model.ipynb\r\n",
      "└── \u001b[01;34msrc\u001b[00m\r\n",
      "    ├── \u001b[01;34m__pycache__\u001b[00m\r\n",
      "    │   ├── code1_data.cpython-38.pyc\r\n",
      "    │   └── code3_data.cpython-38.pyc\r\n",
      "    ├── code1_data.py\r\n",
      "    ├── code2_data.py\r\n",
      "    ├── code3_data.py\r\n",
      "    ├── color_arr.png\r\n",
      "    ├── haarcascade_eye.xml\r\n",
      "    ├── haarcascade_frontalface_default.xml\r\n",
      "    ├── haarcascade_smile.xml\r\n",
      "    └── model_v6_23.hdf5\r\n",
      "\r\n",
      "11 directories, 212 files\r\n"
     ]
    }
   ],
   "source": [
    "!tree .."
   ]
  },
  {
   "cell_type": "code",
   "execution_count": 362,
   "id": "62405d6d",
   "metadata": {},
   "outputs": [],
   "source": [
    "inp1_path = Path.home()/'Iron'/'inp1'\n",
    "\n",
    "train_path = inp1_path/'train'\n",
    "testvalidation_path = inp1_path/'test_validation'\n",
    "\n",
    "fer_csv = inp1_path/'Fer.csv'\n",
    "train_csv = train_path/'Training_Data.csv'\n",
    "test_csv = testvalidation_path/'Testing_Data.csv'\n",
    "validation_csv = testvalidation_path/'Validation_Data.csv'\n"
   ]
  },
  {
   "cell_type": "code",
   "execution_count": 363,
   "id": "c79e1fb9",
   "metadata": {},
   "outputs": [],
   "source": [
    "df_fer = pd.read_csv(fer_csv,encoding = \"ISO-8859-1\")\n",
    "df_train = pd.read_csv(train_csv,encoding = \"ISO-8859-1\")\n",
    "df_test = pd.read_csv(test_csv,encoding = \"ISO-8859-1\")\n",
    "df_validation = pd.read_csv(validation_csv,encoding = \"ISO-8859-1\")"
   ]
  },
  {
   "cell_type": "code",
   "execution_count": 364,
   "id": "7ef3ef93",
   "metadata": {},
   "outputs": [],
   "source": [
    "dfs = [df_fer,df_train,df_test,df_validation]"
   ]
  },
  {
   "cell_type": "code",
   "execution_count": 365,
   "id": "b69cea08",
   "metadata": {},
   "outputs": [],
   "source": [
    "df_fer.name = 'df_fer'\n",
    "df_train.name = 'df_train'\n",
    "df_test.name = 'df_test'\n",
    "df_validation.name = 'df_validation'\n"
   ]
  },
  {
   "cell_type": "code",
   "execution_count": null,
   "id": "db5d0efb",
   "metadata": {},
   "outputs": [],
   "source": []
  },
  {
   "cell_type": "code",
   "execution_count": 366,
   "id": "7e9c7c1e",
   "metadata": {},
   "outputs": [],
   "source": [
    "stupid_csv = testvalidation_path/'Stupid_Data.csv'\n",
    "df_stupid = pd.read_csv(stupid_csv,encoding = \"ISO-8859-1\")\n",
    "df_stupid.name = 'df_stupid'"
   ]
  },
  {
   "cell_type": "code",
   "execution_count": 367,
   "id": "f83bc3d2",
   "metadata": {
    "scrolled": true
   },
   "outputs": [
    {
     "data": {
      "text/html": [
       "<div>\n",
       "<style scoped>\n",
       "    .dataframe tbody tr th:only-of-type {\n",
       "        vertical-align: middle;\n",
       "    }\n",
       "\n",
       "    .dataframe tbody tr th {\n",
       "        vertical-align: top;\n",
       "    }\n",
       "\n",
       "    .dataframe thead th {\n",
       "        text-align: right;\n",
       "    }\n",
       "</style>\n",
       "<table border=\"1\" class=\"dataframe\">\n",
       "  <thead>\n",
       "    <tr style=\"text-align: right;\">\n",
       "      <th></th>\n",
       "      <th>emotion</th>\n",
       "      <th>pixels</th>\n",
       "      <th>Usage</th>\n",
       "    </tr>\n",
       "  </thead>\n",
       "  <tbody>\n",
       "    <tr>\n",
       "      <th>0</th>\n",
       "      <td>0</td>\n",
       "      <td>170 118 101 88 88 75 78 82 66 74 68 59 63 64 6...</td>\n",
       "      <td>PrivateTest</td>\n",
       "    </tr>\n",
       "    <tr>\n",
       "      <th>1</th>\n",
       "      <td>5</td>\n",
       "      <td>7 5 8 6 7 3 2 6 5 4 4 5 7 5 5 5 6 7 7 7 10 10 ...</td>\n",
       "      <td>PrivateTest</td>\n",
       "    </tr>\n",
       "  </tbody>\n",
       "</table>\n",
       "</div>"
      ],
      "text/plain": [
       "   emotion                                             pixels        Usage\n",
       "0        0  170 118 101 88 88 75 78 82 66 74 68 59 63 64 6...  PrivateTest\n",
       "1        5  7 5 8 6 7 3 2 6 5 4 4 5 7 5 5 5 6 7 7 7 10 10 ...  PrivateTest"
      ]
     },
     "execution_count": 367,
     "metadata": {},
     "output_type": "execute_result"
    }
   ],
   "source": [
    "df_stupid.head(2)"
   ]
  },
  {
   "cell_type": "code",
   "execution_count": 368,
   "id": "bd12c8f3",
   "metadata": {},
   "outputs": [
    {
     "data": {
      "text/plain": [
       "Index(['emotion', 'pixels', 'Usage'], dtype='object')"
      ]
     },
     "execution_count": 368,
     "metadata": {},
     "output_type": "execute_result"
    }
   ],
   "source": [
    "df_stupid.columns"
   ]
  },
  {
   "cell_type": "code",
   "execution_count": 369,
   "id": "4b2ffa73",
   "metadata": {},
   "outputs": [],
   "source": [
    "def translate_number2emotion(x):\n",
    "    columns = {'angry':1, 'contempt':2, 'disgust':3, 'fear':4, 'happy':5, 'sadness':6, 'surprise':7} \n",
    "    for k,v in columns.items():\n",
    "        if x == v:\n",
    "            return k"
   ]
  },
  {
   "cell_type": "code",
   "execution_count": 370,
   "id": "954af1e8",
   "metadata": {},
   "outputs": [],
   "source": [
    "df_stupid['emotion_name']=df_stupid['emotion'].apply(translate_number2emotion)"
   ]
  },
  {
   "cell_type": "code",
   "execution_count": 359,
   "id": "8fdd236e",
   "metadata": {},
   "outputs": [
    {
     "data": {
      "text/html": [
       "<div>\n",
       "<style scoped>\n",
       "    .dataframe tbody tr th:only-of-type {\n",
       "        vertical-align: middle;\n",
       "    }\n",
       "\n",
       "    .dataframe tbody tr th {\n",
       "        vertical-align: top;\n",
       "    }\n",
       "\n",
       "    .dataframe thead th {\n",
       "        text-align: right;\n",
       "    }\n",
       "</style>\n",
       "<table border=\"1\" class=\"dataframe\">\n",
       "  <thead>\n",
       "    <tr style=\"text-align: right;\">\n",
       "      <th></th>\n",
       "      <th>emotion</th>\n",
       "      <th>pixels</th>\n",
       "      <th>Usage</th>\n",
       "      <th>emotion_name</th>\n",
       "    </tr>\n",
       "  </thead>\n",
       "  <tbody>\n",
       "    <tr>\n",
       "      <th>0</th>\n",
       "      <td>0</td>\n",
       "      <td>170 118 101 88 88 75 78 82 66 74 68 59 63 64 6...</td>\n",
       "      <td>PrivateTest</td>\n",
       "      <td>None</td>\n",
       "    </tr>\n",
       "    <tr>\n",
       "      <th>1</th>\n",
       "      <td>5</td>\n",
       "      <td>7 5 8 6 7 3 2 6 5 4 4 5 7 5 5 5 6 7 7 7 10 10 ...</td>\n",
       "      <td>PrivateTest</td>\n",
       "      <td>happy</td>\n",
       "    </tr>\n",
       "    <tr>\n",
       "      <th>2</th>\n",
       "      <td>6</td>\n",
       "      <td>232 240 241 239 237 235 246 117 24 24 22 13 12...</td>\n",
       "      <td>PrivateTest</td>\n",
       "      <td>sadness</td>\n",
       "    </tr>\n",
       "    <tr>\n",
       "      <th>3</th>\n",
       "      <td>4</td>\n",
       "      <td>200 197 149 139 156 89 111 58 62 95 113 117 11...</td>\n",
       "      <td>PrivateTest</td>\n",
       "      <td>fear</td>\n",
       "    </tr>\n",
       "    <tr>\n",
       "      <th>4</th>\n",
       "      <td>2</td>\n",
       "      <td>40 28 33 56 45 33 31 78 152 194 200 186 196 20...</td>\n",
       "      <td>PrivateTest</td>\n",
       "      <td>contempt</td>\n",
       "    </tr>\n",
       "  </tbody>\n",
       "</table>\n",
       "</div>"
      ],
      "text/plain": [
       "   emotion                                             pixels        Usage  \\\n",
       "0        0  170 118 101 88 88 75 78 82 66 74 68 59 63 64 6...  PrivateTest   \n",
       "1        5  7 5 8 6 7 3 2 6 5 4 4 5 7 5 5 5 6 7 7 7 10 10 ...  PrivateTest   \n",
       "2        6  232 240 241 239 237 235 246 117 24 24 22 13 12...  PrivateTest   \n",
       "3        4  200 197 149 139 156 89 111 58 62 95 113 117 11...  PrivateTest   \n",
       "4        2  40 28 33 56 45 33 31 78 152 194 200 186 196 20...  PrivateTest   \n",
       "\n",
       "  emotion_name  \n",
       "0         None  \n",
       "1        happy  \n",
       "2      sadness  \n",
       "3         fear  \n",
       "4     contempt  "
      ]
     },
     "execution_count": 359,
     "metadata": {},
     "output_type": "execute_result"
    }
   ],
   "source": [
    "df_stupid.head()"
   ]
  },
  {
   "cell_type": "code",
   "execution_count": 352,
   "id": "b7fd5417",
   "metadata": {},
   "outputs": [
    {
     "name": "stdout",
     "output_type": "stream",
     "text": [
      "['emotion', 'pixels', 'Usage']\n"
     ]
    },
    {
     "ename": "ValueError",
     "evalue": "too many values to unpack (expected 2)",
     "output_type": "error",
     "traceback": [
      "\u001b[0;31m---------------------------------------------------------------------------\u001b[0m",
      "\u001b[0;31mValueError\u001b[0m                                Traceback (most recent call last)",
      "\u001b[0;32m<ipython-input-352-bf6ef9d6e51c>\u001b[0m in \u001b[0;36m<module>\u001b[0;34m\u001b[0m\n\u001b[1;32m      4\u001b[0m     \u001b[0mheader\u001b[0m \u001b[0;34m=\u001b[0m \u001b[0mnext\u001b[0m\u001b[0;34m(\u001b[0m\u001b[0mcsvr\u001b[0m\u001b[0;34m)\u001b[0m\u001b[0;34m\u001b[0m\u001b[0;34m\u001b[0m\u001b[0m\n\u001b[1;32m      5\u001b[0m     \u001b[0mprint\u001b[0m\u001b[0;34m(\u001b[0m\u001b[0mheader\u001b[0m\u001b[0;34m)\u001b[0m\u001b[0;34m\u001b[0m\u001b[0;34m\u001b[0m\u001b[0m\n\u001b[0;32m----> 6\u001b[0;31m     \u001b[0;32mfor\u001b[0m \u001b[0mi\u001b[0m\u001b[0;34m,\u001b[0m \u001b[0;34m(\u001b[0m\u001b[0mlabel\u001b[0m\u001b[0;34m,\u001b[0m \u001b[0mpixel\u001b[0m\u001b[0;34m)\u001b[0m \u001b[0;32min\u001b[0m \u001b[0menumerate\u001b[0m\u001b[0;34m(\u001b[0m\u001b[0mcsvr\u001b[0m\u001b[0;34m)\u001b[0m\u001b[0;34m:\u001b[0m\u001b[0;34m\u001b[0m\u001b[0;34m\u001b[0m\u001b[0m\n\u001b[0m\u001b[1;32m      7\u001b[0m         \u001b[0mpixel\u001b[0m \u001b[0;34m=\u001b[0m \u001b[0mnp\u001b[0m\u001b[0;34m.\u001b[0m\u001b[0masarray\u001b[0m\u001b[0;34m(\u001b[0m\u001b[0;34m[\u001b[0m\u001b[0mfloat\u001b[0m\u001b[0;34m(\u001b[0m\u001b[0mp\u001b[0m\u001b[0;34m)\u001b[0m \u001b[0;32mfor\u001b[0m \u001b[0mp\u001b[0m \u001b[0;32min\u001b[0m \u001b[0mpixel\u001b[0m\u001b[0;34m.\u001b[0m\u001b[0msplit\u001b[0m\u001b[0;34m(\u001b[0m\u001b[0;34m)\u001b[0m\u001b[0;34m]\u001b[0m\u001b[0;34m)\u001b[0m\u001b[0;34m.\u001b[0m\u001b[0mreshape\u001b[0m\u001b[0;34m(\u001b[0m\u001b[0;36m48\u001b[0m\u001b[0;34m,\u001b[0m \u001b[0;36m48\u001b[0m\u001b[0;34m)\u001b[0m\u001b[0;34m\u001b[0m\u001b[0;34m\u001b[0m\u001b[0m\n\u001b[1;32m      8\u001b[0m         \u001b[0msubfolder\u001b[0m \u001b[0;34m=\u001b[0m \u001b[0mos\u001b[0m\u001b[0;34m.\u001b[0m\u001b[0mpath\u001b[0m\u001b[0;34m.\u001b[0m\u001b[0mjoin\u001b[0m\u001b[0;34m(\u001b[0m\u001b[0msave_path\u001b[0m\u001b[0;34m,\u001b[0m \u001b[0mlabel\u001b[0m\u001b[0;34m)\u001b[0m\u001b[0;34m\u001b[0m\u001b[0;34m\u001b[0m\u001b[0m\n",
      "\u001b[0;31mValueError\u001b[0m: too many values to unpack (expected 2)"
     ]
    }
   ],
   "source": [
    "num = 1\n",
    "with open(stupid_csv) as f:\n",
    "    csvr = csv.reader(f)\n",
    "    header = next(csvr)\n",
    "    print(header)\n",
    "    for i, (label, pixel) in enumerate(csvr):\n",
    "        pixel = np.asarray([float(p) for p in pixel.split()]).reshape(48, 48)\n",
    "        subfolder = os.path.join(save_path, label)\n",
    "        if not os.path.exists(subfolder):\n",
    "            os.makedirs(subfolder)\n",
    "        im = Image.fromarray(pixel).convert('L')\n",
    "        image_name = os.path.join(subfolder, '{:05d}.jpg'.format(i))\n",
    "        im.save(image_name)"
   ]
  },
  {
   "cell_type": "code",
   "execution_count": 350,
   "id": "19e12cf8",
   "metadata": {},
   "outputs": [
    {
     "ename": "ValueError",
     "evalue": "too many values to unpack (expected 2)",
     "output_type": "error",
     "traceback": [
      "\u001b[0;31m---------------------------------------------------------------------------\u001b[0m",
      "\u001b[0;31mValueError\u001b[0m                                Traceback (most recent call last)",
      "\u001b[0;32m<ipython-input-350-963e2169d4ec>\u001b[0m in \u001b[0;36m<module>\u001b[0;34m\u001b[0m\n\u001b[1;32m      4\u001b[0m     \u001b[0mcsvr\u001b[0m \u001b[0;34m=\u001b[0m \u001b[0mcsv\u001b[0m\u001b[0;34m.\u001b[0m\u001b[0mreader\u001b[0m\u001b[0;34m(\u001b[0m\u001b[0mf\u001b[0m\u001b[0;34m)\u001b[0m\u001b[0;34m\u001b[0m\u001b[0;34m\u001b[0m\u001b[0m\n\u001b[1;32m      5\u001b[0m     \u001b[0mheader\u001b[0m \u001b[0;34m=\u001b[0m \u001b[0mnext\u001b[0m\u001b[0;34m(\u001b[0m\u001b[0mcsvr\u001b[0m\u001b[0;34m)\u001b[0m\u001b[0;34m\u001b[0m\u001b[0;34m\u001b[0m\u001b[0m\n\u001b[0;32m----> 6\u001b[0;31m     \u001b[0;32mfor\u001b[0m \u001b[0mi\u001b[0m\u001b[0;34m,\u001b[0m \u001b[0;34m(\u001b[0m\u001b[0mlabel\u001b[0m\u001b[0;34m,\u001b[0m \u001b[0mpixel\u001b[0m\u001b[0;34m)\u001b[0m \u001b[0;32min\u001b[0m \u001b[0menumerate\u001b[0m\u001b[0;34m(\u001b[0m\u001b[0mcsvr\u001b[0m\u001b[0;34m)\u001b[0m\u001b[0;34m:\u001b[0m\u001b[0;34m\u001b[0m\u001b[0;34m\u001b[0m\u001b[0m\n\u001b[0m\u001b[1;32m      7\u001b[0m         \u001b[0mpixel\u001b[0m \u001b[0;34m=\u001b[0m \u001b[0mnp\u001b[0m\u001b[0;34m.\u001b[0m\u001b[0masarray\u001b[0m\u001b[0;34m(\u001b[0m\u001b[0;34m[\u001b[0m\u001b[0mfloat\u001b[0m\u001b[0;34m(\u001b[0m\u001b[0mp\u001b[0m\u001b[0;34m)\u001b[0m \u001b[0;32mfor\u001b[0m \u001b[0mp\u001b[0m \u001b[0;32min\u001b[0m \u001b[0mpixel\u001b[0m\u001b[0;34m.\u001b[0m\u001b[0msplit\u001b[0m\u001b[0;34m(\u001b[0m\u001b[0;34m)\u001b[0m\u001b[0;34m]\u001b[0m\u001b[0;34m)\u001b[0m\u001b[0;34m.\u001b[0m\u001b[0mreshape\u001b[0m\u001b[0;34m(\u001b[0m\u001b[0;36m48\u001b[0m\u001b[0;34m,\u001b[0m \u001b[0;36m48\u001b[0m\u001b[0;34m)\u001b[0m\u001b[0;34m\u001b[0m\u001b[0;34m\u001b[0m\u001b[0m\n\u001b[1;32m      8\u001b[0m         \u001b[0msubfolder\u001b[0m \u001b[0;34m=\u001b[0m \u001b[0mos\u001b[0m\u001b[0;34m.\u001b[0m\u001b[0mpath\u001b[0m\u001b[0;34m.\u001b[0m\u001b[0mjoin\u001b[0m\u001b[0;34m(\u001b[0m\u001b[0msave_path\u001b[0m\u001b[0;34m,\u001b[0m \u001b[0mlabel\u001b[0m\u001b[0;34m)\u001b[0m\u001b[0;34m\u001b[0m\u001b[0;34m\u001b[0m\u001b[0m\n",
      "\u001b[0;31mValueError\u001b[0m: too many values to unpack (expected 2)"
     ]
    }
   ],
   "source": [
    "import csv\n",
    "\n",
    "with open(stupid_csv) as f:\n",
    "    csvr = csv.reader(f)\n",
    "    header = next(csvr)\n",
    "    for i, (label, pixel) in enumerate(csvr):\n",
    "        pixel = np.asarray([float(p) for p in pixel.split()]).reshape(48, 48)\n",
    "        subfolder = os.path.join(save_path, label)\n",
    "        if not os.path.exists(subfolder):\n",
    "            os.makedirs(subfolder)\n",
    "        im = Image.fromarray(pixel).convert('L')\n",
    "        image_name = os.path.join(subfolder, '{:05d}.jpg'.format(i))\n",
    "        im.save(image_name)"
   ]
  },
  {
   "cell_type": "code",
   "execution_count": 308,
   "id": "085ebee1",
   "metadata": {},
   "outputs": [
    {
     "name": "stdout",
     "output_type": "stream",
     "text": [
      "---> df_fer <---\n",
      "(35887, 3)\n",
      "['emotion', 'pixels', 'Usage']\n"
     ]
    },
    {
     "data": {
      "text/html": [
       "<div>\n",
       "<style scoped>\n",
       "    .dataframe tbody tr th:only-of-type {\n",
       "        vertical-align: middle;\n",
       "    }\n",
       "\n",
       "    .dataframe tbody tr th {\n",
       "        vertical-align: top;\n",
       "    }\n",
       "\n",
       "    .dataframe thead th {\n",
       "        text-align: right;\n",
       "    }\n",
       "</style>\n",
       "<table border=\"1\" class=\"dataframe\">\n",
       "  <thead>\n",
       "    <tr style=\"text-align: right;\">\n",
       "      <th></th>\n",
       "      <th>emotion</th>\n",
       "      <th>pixels</th>\n",
       "      <th>Usage</th>\n",
       "    </tr>\n",
       "  </thead>\n",
       "  <tbody>\n",
       "    <tr>\n",
       "      <th>0</th>\n",
       "      <td>0</td>\n",
       "      <td>70 80 82 72 58 58 60 63 54 58 60 48 89 115 121...</td>\n",
       "      <td>Training</td>\n",
       "    </tr>\n",
       "    <tr>\n",
       "      <th>1</th>\n",
       "      <td>0</td>\n",
       "      <td>151 150 147 155 148 133 111 140 170 174 182 15...</td>\n",
       "      <td>Training</td>\n",
       "    </tr>\n",
       "    <tr>\n",
       "      <th>2</th>\n",
       "      <td>2</td>\n",
       "      <td>231 212 156 164 174 138 161 173 182 200 106 38...</td>\n",
       "      <td>Training</td>\n",
       "    </tr>\n",
       "  </tbody>\n",
       "</table>\n",
       "</div>"
      ],
      "text/plain": [
       "   emotion                                             pixels     Usage\n",
       "0        0  70 80 82 72 58 58 60 63 54 58 60 48 89 115 121...  Training\n",
       "1        0  151 150 147 155 148 133 111 140 170 174 182 15...  Training\n",
       "2        2  231 212 156 164 174 138 161 173 182 200 106 38...  Training"
      ]
     },
     "metadata": {},
     "output_type": "display_data"
    },
    {
     "name": "stdout",
     "output_type": "stream",
     "text": [
      "\n",
      "\n",
      "---> df_train <---\n",
      "(28709, 3)\n",
      "['emotion', 'pixels', 'Usage']\n"
     ]
    },
    {
     "data": {
      "text/html": [
       "<div>\n",
       "<style scoped>\n",
       "    .dataframe tbody tr th:only-of-type {\n",
       "        vertical-align: middle;\n",
       "    }\n",
       "\n",
       "    .dataframe tbody tr th {\n",
       "        vertical-align: top;\n",
       "    }\n",
       "\n",
       "    .dataframe thead th {\n",
       "        text-align: right;\n",
       "    }\n",
       "</style>\n",
       "<table border=\"1\" class=\"dataframe\">\n",
       "  <thead>\n",
       "    <tr style=\"text-align: right;\">\n",
       "      <th></th>\n",
       "      <th>emotion</th>\n",
       "      <th>pixels</th>\n",
       "      <th>Usage</th>\n",
       "    </tr>\n",
       "  </thead>\n",
       "  <tbody>\n",
       "    <tr>\n",
       "      <th>0</th>\n",
       "      <td>0</td>\n",
       "      <td>70 80 82 72 58 58 60 63 54 58 60 48 89 115 121...</td>\n",
       "      <td>Training</td>\n",
       "    </tr>\n",
       "    <tr>\n",
       "      <th>1</th>\n",
       "      <td>0</td>\n",
       "      <td>151 150 147 155 148 133 111 140 170 174 182 15...</td>\n",
       "      <td>Training</td>\n",
       "    </tr>\n",
       "    <tr>\n",
       "      <th>2</th>\n",
       "      <td>2</td>\n",
       "      <td>231 212 156 164 174 138 161 173 182 200 106 38...</td>\n",
       "      <td>Training</td>\n",
       "    </tr>\n",
       "  </tbody>\n",
       "</table>\n",
       "</div>"
      ],
      "text/plain": [
       "   emotion                                             pixels     Usage\n",
       "0        0  70 80 82 72 58 58 60 63 54 58 60 48 89 115 121...  Training\n",
       "1        0  151 150 147 155 148 133 111 140 170 174 182 15...  Training\n",
       "2        2  231 212 156 164 174 138 161 173 182 200 106 38...  Training"
      ]
     },
     "metadata": {},
     "output_type": "display_data"
    },
    {
     "name": "stdout",
     "output_type": "stream",
     "text": [
      "\n",
      "\n",
      "---> df_test <---\n",
      "(3589, 3)\n",
      "['emotion', 'pixels', 'Usage']\n"
     ]
    },
    {
     "data": {
      "text/html": [
       "<div>\n",
       "<style scoped>\n",
       "    .dataframe tbody tr th:only-of-type {\n",
       "        vertical-align: middle;\n",
       "    }\n",
       "\n",
       "    .dataframe tbody tr th {\n",
       "        vertical-align: top;\n",
       "    }\n",
       "\n",
       "    .dataframe thead th {\n",
       "        text-align: right;\n",
       "    }\n",
       "</style>\n",
       "<table border=\"1\" class=\"dataframe\">\n",
       "  <thead>\n",
       "    <tr style=\"text-align: right;\">\n",
       "      <th></th>\n",
       "      <th>emotion</th>\n",
       "      <th>pixels</th>\n",
       "      <th>Usage</th>\n",
       "    </tr>\n",
       "  </thead>\n",
       "  <tbody>\n",
       "    <tr>\n",
       "      <th>0</th>\n",
       "      <td>0</td>\n",
       "      <td>170 118 101 88 88 75 78 82 66 74 68 59 63 64 6...</td>\n",
       "      <td>PrivateTest</td>\n",
       "    </tr>\n",
       "    <tr>\n",
       "      <th>1</th>\n",
       "      <td>5</td>\n",
       "      <td>7 5 8 6 7 3 2 6 5 4 4 5 7 5 5 5 6 7 7 7 10 10 ...</td>\n",
       "      <td>PrivateTest</td>\n",
       "    </tr>\n",
       "    <tr>\n",
       "      <th>2</th>\n",
       "      <td>6</td>\n",
       "      <td>232 240 241 239 237 235 246 117 24 24 22 13 12...</td>\n",
       "      <td>PrivateTest</td>\n",
       "    </tr>\n",
       "  </tbody>\n",
       "</table>\n",
       "</div>"
      ],
      "text/plain": [
       "   emotion                                             pixels        Usage\n",
       "0        0  170 118 101 88 88 75 78 82 66 74 68 59 63 64 6...  PrivateTest\n",
       "1        5  7 5 8 6 7 3 2 6 5 4 4 5 7 5 5 5 6 7 7 7 10 10 ...  PrivateTest\n",
       "2        6  232 240 241 239 237 235 246 117 24 24 22 13 12...  PrivateTest"
      ]
     },
     "metadata": {},
     "output_type": "display_data"
    },
    {
     "name": "stdout",
     "output_type": "stream",
     "text": [
      "\n",
      "\n",
      "---> df_validation <---\n",
      "(3589, 3)\n",
      "['emotion', 'pixels', 'Usage']\n"
     ]
    },
    {
     "data": {
      "text/html": [
       "<div>\n",
       "<style scoped>\n",
       "    .dataframe tbody tr th:only-of-type {\n",
       "        vertical-align: middle;\n",
       "    }\n",
       "\n",
       "    .dataframe tbody tr th {\n",
       "        vertical-align: top;\n",
       "    }\n",
       "\n",
       "    .dataframe thead th {\n",
       "        text-align: right;\n",
       "    }\n",
       "</style>\n",
       "<table border=\"1\" class=\"dataframe\">\n",
       "  <thead>\n",
       "    <tr style=\"text-align: right;\">\n",
       "      <th></th>\n",
       "      <th>emotion</th>\n",
       "      <th>pixels</th>\n",
       "      <th>Usage</th>\n",
       "    </tr>\n",
       "  </thead>\n",
       "  <tbody>\n",
       "    <tr>\n",
       "      <th>0</th>\n",
       "      <td>0</td>\n",
       "      <td>254 254 254 254 254 249 255 160 2 58 53 70 77 ...</td>\n",
       "      <td>PublicTest</td>\n",
       "    </tr>\n",
       "    <tr>\n",
       "      <th>1</th>\n",
       "      <td>1</td>\n",
       "      <td>156 184 198 202 204 207 210 212 213 214 215 21...</td>\n",
       "      <td>PublicTest</td>\n",
       "    </tr>\n",
       "    <tr>\n",
       "      <th>2</th>\n",
       "      <td>4</td>\n",
       "      <td>69 118 61 60 96 121 103 87 103 88 70 90 115 12...</td>\n",
       "      <td>PublicTest</td>\n",
       "    </tr>\n",
       "  </tbody>\n",
       "</table>\n",
       "</div>"
      ],
      "text/plain": [
       "   emotion                                             pixels       Usage\n",
       "0        0  254 254 254 254 254 249 255 160 2 58 53 70 77 ...  PublicTest\n",
       "1        1  156 184 198 202 204 207 210 212 213 214 215 21...  PublicTest\n",
       "2        4  69 118 61 60 96 121 103 87 103 88 70 90 115 12...  PublicTest"
      ]
     },
     "metadata": {},
     "output_type": "display_data"
    },
    {
     "name": "stdout",
     "output_type": "stream",
     "text": [
      "\n",
      "\n"
     ]
    }
   ],
   "source": [
    "for dataframe in dfs:\n",
    "    print(f\"---> {dataframe.name} <---\")\n",
    "    print(dataframe.shape)\n",
    "    print(list(dataframe.columns))\n",
    "    display(dataframe.head(3))\n",
    "    print(\"\\n\")"
   ]
  },
  {
   "cell_type": "code",
   "execution_count": 354,
   "id": "49967ae8",
   "metadata": {},
   "outputs": [
    {
     "data": {
      "text/plain": [
       "array([0, 5, 6, 4, 2, 3, 1])"
      ]
     },
     "execution_count": 354,
     "metadata": {},
     "output_type": "execute_result"
    }
   ],
   "source": [
    "df_stupid.emotion.unique()"
   ]
  },
  {
   "cell_type": "code",
   "execution_count": 85,
   "id": "cc80c193",
   "metadata": {},
   "outputs": [],
   "source": [
    "ccc = Path.home()/'Pictures'/'Cristina_copy copy.jpg'"
   ]
  },
  {
   "cell_type": "code",
   "execution_count": 86,
   "id": "e2222dd9",
   "metadata": {},
   "outputs": [],
   "source": [
    "from PIL import Image"
   ]
  },
  {
   "cell_type": "code",
   "execution_count": 87,
   "id": "51fbe741",
   "metadata": {},
   "outputs": [],
   "source": [
    "ccc_pil_img = Image.open(str(ccc))"
   ]
  },
  {
   "cell_type": "code",
   "execution_count": 88,
   "id": "758eafea",
   "metadata": {},
   "outputs": [
    {
     "data": {
      "text/plain": [
       "(5184, 3456)"
      ]
     },
     "execution_count": 88,
     "metadata": {},
     "output_type": "execute_result"
    }
   ],
   "source": [
    "ccc_pil_img.size"
   ]
  },
  {
   "cell_type": "code",
   "execution_count": 84,
   "id": "0ca1e562",
   "metadata": {},
   "outputs": [],
   "source": [
    "ccc_pil_img.show()"
   ]
  },
  {
   "cell_type": "code",
   "execution_count": 93,
   "id": "7ed7f9f4",
   "metadata": {
    "scrolled": true
   },
   "outputs": [
    {
     "data": {
      "text/plain": [
       "PosixPath('/Users/cris/Iron/inp1/train')"
      ]
     },
     "execution_count": 93,
     "metadata": {},
     "output_type": "execute_result"
    }
   ],
   "source": [
    "train_path"
   ]
  },
  {
   "cell_type": "code",
   "execution_count": 107,
   "id": "74a21523",
   "metadata": {},
   "outputs": [],
   "source": [
    "face_cascade = cv2.CascadeClassifier('../src/haarcascade_frontalface_default.xml')\n",
    "eye_cascade = cv2.CascadeClassifier('../src/haarcascade_eye.xml')\n",
    "smile_cascade = cv2.CascadeClassifier('../src/haarcascade_smile.xml')"
   ]
  },
  {
   "cell_type": "code",
   "execution_count": 127,
   "id": "d5a6534f",
   "metadata": {},
   "outputs": [],
   "source": [
    "ferdi = train_path/'0.jpg'\n",
    "strferdi=str(ferdi)"
   ]
  },
  {
   "cell_type": "code",
   "execution_count": 256,
   "id": "bf56e8a9",
   "metadata": {},
   "outputs": [],
   "source": [
    "def transfImag(path):\n",
    "    print ('transforming image from {}'.format(path))\n",
    "\n",
    "    input_img=cv2.imread(path)\n",
    "    input_img=cv2.cvtColor(input_img, cv2.COLOR_BGR2GRAY)\n",
    "    faces = face_cascade.detectMultiScale(input_img, 1.25, 6)\n",
    "    x,y,w,h = faces[0]\n",
    "    img_data= input_img[y:y+h,x:x+w]\n",
    "    img_data=cv2.resize(img_data,(48,48))\n",
    "    \n",
    "    img_data = np.stack(img_data)\n",
    "    img_data = img_data / 255.0\n",
    "    \n",
    "    return img_data"
   ]
  },
  {
   "cell_type": "code",
   "execution_count": 255,
   "id": "880528ae",
   "metadata": {},
   "outputs": [
    {
     "name": "stdout",
     "output_type": "stream",
     "text": [
      "transforming image from /Users/cris/Iron/inp1/train/0.jpg\n",
      "\n",
      "\n",
      "PIC.size:  2304\n",
      "PIC.shape:  (48, 48)\n",
      "\n",
      "\n",
      "PIC[0].shape: (48,)\n",
      "\n",
      "\n",
      "PIC[0]:  [0.21176471 0.27058824 0.3254902  0.25098039 0.21176471 0.20392157\n",
      " 0.25098039 0.35686275 0.51372549 0.65882353 0.74901961 0.76078431\n",
      " 0.78823529 0.80784314 0.81960784 0.82745098 0.83921569 0.84705882\n",
      " 0.85098039 0.85098039 0.84705882 0.84705882 0.84705882 0.85098039\n",
      " 0.84705882 0.84313725 0.83137255 0.82352941 0.81176471 0.79607843\n",
      " 0.77254902 0.74117647 0.71372549 0.67843137 0.61176471 0.55294118\n",
      " 0.50588235 0.4627451  0.41960784 0.37647059 0.35294118 0.3372549\n",
      " 0.32941176 0.34901961 0.34901961 0.32156863 0.32941176 0.34117647]\n",
      "\n",
      "\n",
      "PIC1[0].shape:  (48, 48, 1)\n",
      "\n",
      "\n",
      "PIC1[0]:  [[[0.21176471]\n",
      "  [0.27058824]\n",
      "  [0.3254902 ]\n",
      "  ...\n",
      "  [0.32156863]\n",
      "  [0.32941176]\n",
      "  [0.34117647]]\n",
      "\n",
      " [[0.22745098]\n",
      "  [0.27058824]\n",
      "  [0.31372549]\n",
      "  ...\n",
      "  [0.35294118]\n",
      "  [0.34901961]\n",
      "  [0.35294118]]\n",
      "\n",
      " [[0.24313725]\n",
      "  [0.2745098 ]\n",
      "  [0.29803922]\n",
      "  ...\n",
      "  [0.38431373]\n",
      "  [0.37647059]\n",
      "  [0.36862745]]\n",
      "\n",
      " ...\n",
      "\n",
      " [[0.25098039]\n",
      "  [0.23137255]\n",
      "  [0.20392157]\n",
      "  ...\n",
      "  [0.74901961]\n",
      "  [0.7372549 ]\n",
      "  [0.7254902 ]]\n",
      "\n",
      " [[0.23921569]\n",
      "  [0.22352941]\n",
      "  [0.2       ]\n",
      "  ...\n",
      "  [0.74117647]\n",
      "  [0.74117647]\n",
      "  [0.7372549 ]]\n",
      "\n",
      " [[0.23529412]\n",
      "  [0.21960784]\n",
      "  [0.19607843]\n",
      "  ...\n",
      "  [0.7372549 ]\n",
      "  [0.74117647]\n",
      "  [0.74901961]]]\n"
     ]
    },
    {
     "data": {
      "text/plain": [
       "<matplotlib.image.AxesImage at 0x7f96d37925b0>"
      ]
     },
     "execution_count": 255,
     "metadata": {},
     "output_type": "execute_result"
    },
    {
     "data": {
      "image/png": "[encoded data removed]",
      "text/plain": [
       "<Figure size 432x288 with 4 Axes>"
      ]
     },
     "metadata": {
      "needs_background": "light"
     },
     "output_type": "display_data"
    }
   ],
   "source": [
    "PIC = transfImag(str(ferdi))\n",
    "\n",
    "print(\"\\n\")\n",
    "print('PIC.size: ',PIC.size)\n",
    "print('PIC.shape: ',PIC.shape)\n",
    "print(\"\\n\")\n",
    "print('PIC[0].shape:',PIC[0].shape)\n",
    "print(\"\\n\")\n",
    "print('PIC[0]: ',PIC[0])\n",
    "print(\"\\n\")\n",
    "PIC1 = np.expand_dims(PIC,axis=0).reshape(np.expand_dims(PIC,axis=0).shape[0], 48, 48, 1)\n",
    "print('PIC1[0].shape: ', PIC1[0].shape)\n",
    "print(\"\\n\")\n",
    "print('PIC1[0]: ',PIC1[0])\n",
    "\n",
    "input_img=cv2.imread(str(ferdi))\n",
    "\n",
    "plt.subplot(141)\n",
    "plt.imshow(input_img) # original pic\n",
    "plt.subplot(142)\n",
    "plt.imshow(Image.fromarray(PIC.squeeze()*255)) # transformed pic\n",
    "plt.subplot(143)\n",
    "plt.imshow(Image.fromarray(PIC1.squeeze()*255)) # transformed pic\n",
    "plt.subplot(144)\n",
    "plt.imshow(Image.fromarray(PIC1[0].squeeze()*255)) # transformed pic"
   ]
  },
  {
   "cell_type": "code",
   "execution_count": 257,
   "id": "33443275",
   "metadata": {},
   "outputs": [
    {
     "data": {
      "text/plain": [
       "(1, 48, 48, 1)"
      ]
     },
     "execution_count": 257,
     "metadata": {},
     "output_type": "execute_result"
    }
   ],
   "source": [
    "PIC1.shape"
   ]
  },
  {
   "cell_type": "code",
   "execution_count": null,
   "id": "740c4342",
   "metadata": {},
   "outputs": [],
   "source": [
    "input_img=cv2.imread(str(ferdi)) # DUPLICADO!!  equiv ---> input_img1\n",
    "\n",
    "plt.subplot(131)\n",
    "plt.imshow(input_img1)\n",
    "plt.subplot(132)\n",
    "plt.imshow(Image.fromarray(PIC.squeeze()*255)) # transformed pic\n",
    "plt.subplot(133)\n",
    "plt.imshow(Image.fromarray(PIC.squeeze()*400)) # transformed pic"
   ]
  },
  {
   "cell_type": "code",
   "execution_count": 235,
   "id": "7320e3bf",
   "metadata": {},
   "outputs": [],
   "source": [
    "input_img1 = cv2.imread(str(ferdi))\n",
    "input_img2 = cv2.cvtColor(input_img1, cv2.COLOR_BGR2GRAY)\n",
    "\n",
    "faces = face_cascade.detectMultiScale(input_img2, 1.25, 6)\n",
    "x,y,w,h = faces[0]\n",
    "\n",
    "img_data1 = input_img2 [y:y+h,x:x+w]\n",
    "img_data2 = cv2.resize (img_data1,(48,48))\n",
    "\n",
    "img_data3 = np.stack(img_data2) # DUPLICADO!! equiv ---> img_data2\n",
    "\n",
    "img_data4 = img_data2 / 255.0\n",
    "img_data5 = img_data3 / 255.0 # no usar, es del duplicado anterior\n"
   ]
  },
  {
   "cell_type": "code",
   "execution_count": 265,
   "id": "e4b27905",
   "metadata": {},
   "outputs": [
    {
     "name": "stdout",
     "output_type": "stream",
     "text": [
      "\n",
      "\n",
      "El modelo necesita de input lo siguiente, equiv a PIC1: \n",
      "(1, 48, 48, 1) 2304\n",
      "input_img:  (48, 48, 3) 6912\n"
     ]
    },
    {
     "data": {
      "image/png": "[encoded data removed]",
      "text/plain": [
       "<Figure size 432x288 with 2 Axes>"
      ]
     },
     "metadata": {
      "needs_background": "light"
     },
     "output_type": "display_data"
    }
   ],
   "source": [
    "plt.subplot(141)\n",
    "plt.imshow(Image.fromarray(PIC1.squeeze()*255)) # transformed pic\n",
    "plt.subplot(142)\n",
    "plt.imshow(Image.fromarray(input_img)) # transformed pic\n",
    "print(\"\\n\")\n",
    "print(\"El modelo necesita de input lo siguiente, equiv a PIC1: \")\n",
    "print(PIC1.shape, PIC1.size)\n",
    "print(\"input_img: \", input_img.shape, input_img.size)"
   ]
  },
  {
   "cell_type": "code",
   "execution_count": 214,
   "id": "b63622aa",
   "metadata": {},
   "outputs": [
    {
     "data": {
      "text/plain": [
       "<matplotlib.image.AxesImage at 0x7f96d33e70a0>"
      ]
     },
     "execution_count": 214,
     "metadata": {},
     "output_type": "execute_result"
    },
    {
     "data": {
      "image/png": "[encoded data removed]",
      "text/plain": [
       "<Figure size 432x288 with 3 Axes>"
      ]
     },
     "metadata": {
      "needs_background": "light"
     },
     "output_type": "display_data"
    }
   ],
   "source": [
    "input_img=cv2.imread(str(ferdi)) # DUPLICADO!!  equiv ---> input_img1\n",
    "\n",
    "plt.subplot(131)\n",
    "plt.imshow(input_img1)\n",
    "plt.subplot(132)\n",
    "plt.imshow(Image.fromarray(PIC.squeeze()*255)) # transformed pic\n",
    "plt.subplot(133)\n",
    "plt.imshow(Image.fromarray(PIC.squeeze()*400)) # transformed pic"
   ]
  },
  {
   "cell_type": "code",
   "execution_count": 239,
   "id": "dd174ac0",
   "metadata": {},
   "outputs": [
    {
     "data": {
      "text/plain": [
       "numpy.ndarray"
      ]
     },
     "execution_count": 239,
     "metadata": {},
     "output_type": "execute_result"
    }
   ],
   "source": [
    "type(input_img1)"
   ]
  },
  {
   "cell_type": "code",
   "execution_count": 237,
   "id": "b923e7bd",
   "metadata": {},
   "outputs": [
    {
     "data": {
      "text/plain": [
       "numpy.ndarray"
      ]
     },
     "execution_count": 237,
     "metadata": {},
     "output_type": "execute_result"
    }
   ],
   "source": [
    "type(PIC)"
   ]
  },
  {
   "cell_type": "code",
   "execution_count": 232,
   "id": "a3b48a5c",
   "metadata": {},
   "outputs": [
    {
     "data": {
      "text/plain": [
       "array([0.21176471, 0.27058824, 0.3254902 , 0.25098039, 0.21176471,\n",
       "       0.20392157, 0.25098039, 0.35686275, 0.51372549, 0.65882353,\n",
       "       0.74901961, 0.76078431, 0.78823529, 0.80784314, 0.81960784,\n",
       "       0.82745098, 0.83921569, 0.84705882, 0.85098039, 0.85098039,\n",
       "       0.84705882, 0.84705882, 0.84705882, 0.85098039, 0.84705882,\n",
       "       0.84313725, 0.83137255, 0.82352941, 0.81176471, 0.79607843,\n",
       "       0.77254902, 0.74117647, 0.71372549, 0.67843137, 0.61176471,\n",
       "       0.55294118, 0.50588235, 0.4627451 , 0.41960784, 0.37647059,\n",
       "       0.35294118, 0.3372549 , 0.32941176, 0.34901961, 0.34901961,\n",
       "       0.32156863, 0.32941176, 0.34117647])"
      ]
     },
     "execution_count": 232,
     "metadata": {},
     "output_type": "execute_result"
    }
   ],
   "source": [
    "img_data4[0]"
   ]
  },
  {
   "cell_type": "code",
   "execution_count": 233,
   "id": "87e79e14",
   "metadata": {},
   "outputs": [
    {
     "data": {
      "text/plain": [
       "array([0.21176471, 0.27058824, 0.3254902 , 0.25098039, 0.21176471,\n",
       "       0.20392157, 0.25098039, 0.35686275, 0.51372549, 0.65882353,\n",
       "       0.74901961, 0.76078431, 0.78823529, 0.80784314, 0.81960784,\n",
       "       0.82745098, 0.83921569, 0.84705882, 0.85098039, 0.85098039,\n",
       "       0.84705882, 0.84705882, 0.84705882, 0.85098039, 0.84705882,\n",
       "       0.84313725, 0.83137255, 0.82352941, 0.81176471, 0.79607843,\n",
       "       0.77254902, 0.74117647, 0.71372549, 0.67843137, 0.61176471,\n",
       "       0.55294118, 0.50588235, 0.4627451 , 0.41960784, 0.37647059,\n",
       "       0.35294118, 0.3372549 , 0.32941176, 0.34901961, 0.34901961,\n",
       "       0.32156863, 0.32941176, 0.34117647])"
      ]
     },
     "execution_count": 233,
     "metadata": {},
     "output_type": "execute_result"
    }
   ],
   "source": [
    "img_data5[0]"
   ]
  },
  {
   "cell_type": "code",
   "execution_count": 234,
   "id": "920c8112",
   "metadata": {},
   "outputs": [
    {
     "data": {
      "text/plain": [
       "array([0.21176471, 0.27058824, 0.3254902 , 0.25098039, 0.21176471,\n",
       "       0.20392157, 0.25098039, 0.35686275, 0.51372549, 0.65882353,\n",
       "       0.74901961, 0.76078431, 0.78823529, 0.80784314, 0.81960784,\n",
       "       0.82745098, 0.83921569, 0.84705882, 0.85098039, 0.85098039,\n",
       "       0.84705882, 0.84705882, 0.84705882, 0.85098039, 0.84705882,\n",
       "       0.84313725, 0.83137255, 0.82352941, 0.81176471, 0.79607843,\n",
       "       0.77254902, 0.74117647, 0.71372549, 0.67843137, 0.61176471,\n",
       "       0.55294118, 0.50588235, 0.4627451 , 0.41960784, 0.37647059,\n",
       "       0.35294118, 0.3372549 , 0.32941176, 0.34901961, 0.34901961,\n",
       "       0.32156863, 0.32941176, 0.34117647])"
      ]
     },
     "execution_count": 234,
     "metadata": {},
     "output_type": "execute_result"
    }
   ],
   "source": [
    "PIC[0]"
   ]
  },
  {
   "cell_type": "code",
   "execution_count": 209,
   "id": "8ae4e6d9",
   "metadata": {},
   "outputs": [
    {
     "data": {
      "text/plain": [
       "array([ 54.,  69.,  83.,  64.,  54.,  52.,  64.,  91., 131., 168., 191.,\n",
       "       194., 201., 206., 209., 211., 214., 216., 217., 217., 216., 216.,\n",
       "       216., 217., 216., 215., 212., 210., 207., 203., 197., 189., 182.,\n",
       "       173., 156., 141., 129., 118., 107.,  96.,  90.,  86.,  84.,  89.,\n",
       "        89.,  82.,  84.,  87.])"
      ]
     },
     "execution_count": 209,
     "metadata": {},
     "output_type": "execute_result"
    }
   ],
   "source": [
    "PIC.squeeze()[0]*255"
   ]
  },
  {
   "cell_type": "code",
   "execution_count": 243,
   "id": "16132417",
   "metadata": {},
   "outputs": [
    {
     "name": "stdout",
     "output_type": "stream",
     "text": [
      "transforming image from /Users/cris/Iron/inp1/train/0.jpg\n",
      "[0.21176471 0.27058824 0.3254902  0.25098039 0.21176471 0.20392157\n",
      " 0.25098039 0.35686275 0.51372549 0.65882353 0.74901961 0.76078431\n",
      " 0.78823529 0.80784314 0.81960784 0.82745098 0.83921569 0.84705882\n",
      " 0.85098039 0.85098039 0.84705882 0.84705882 0.84705882 0.85098039\n",
      " 0.84705882 0.84313725 0.83137255 0.82352941 0.81176471 0.79607843\n",
      " 0.77254902 0.74117647 0.71372549 0.67843137 0.61176471 0.55294118\n",
      " 0.50588235 0.4627451  0.41960784 0.37647059 0.35294118 0.3372549\n",
      " 0.32941176 0.34901961 0.34901961 0.32156863 0.32941176 0.34117647]\n",
      "[0.21176471 0.27058824 0.3254902  0.25098039 0.21176471 0.20392157\n",
      " 0.25098039 0.35686275 0.51372549 0.65882353 0.74901961 0.76078431\n",
      " 0.78823529 0.80784314 0.81960784 0.82745098 0.83921569 0.84705882\n",
      " 0.85098039 0.85098039 0.84705882 0.84705882 0.84705882 0.85098039\n",
      " 0.84705882 0.84313725 0.83137255 0.82352941 0.81176471 0.79607843\n",
      " 0.77254902 0.74117647 0.71372549 0.67843137 0.61176471 0.55294118\n",
      " 0.50588235 0.4627451  0.41960784 0.37647059 0.35294118 0.3372549\n",
      " 0.32941176 0.34901961 0.34901961 0.32156863 0.32941176 0.34117647]\n",
      "(1, 48, 48, 1)\n"
     ]
    },
    {
     "data": {
      "image/png": "[encoded data removed]",
      "text/plain": [
       "<Figure size 432x288 with 2 Axes>"
      ]
     },
     "metadata": {
      "needs_background": "light"
     },
     "output_type": "display_data"
    }
   ],
   "source": [
    "PIC = transfImag(str(ferdi)) # transform pic\n",
    "input_img=cv2.imread(str(ferdi)) # get the array of the original pic\n",
    "\n",
    "plt.subplot(121)\n",
    "plt.imshow(input_img) # original pic\n",
    "plt.subplot(122)\n",
    "plt.imshow(Image.fromarray(PIC.squeeze()*255)) # transformed pic\n",
    "print(PIC[0])\n",
    "PIC = np.expand_dims(PIC,axis=0).reshape(np.expand_dims(PIC,axis=0).shape[0], 48, 48, 1)\n",
    "print(PIC.shape)"
   ]
  },
  {
   "cell_type": "code",
   "execution_count": 206,
   "id": "e9bde5b3",
   "metadata": {},
   "outputs": [
    {
     "name": "stdout",
     "output_type": "stream",
     "text": [
      "input_img1.size:  6912\n",
      "input_img1.shape: (48, 48, 3)\n",
      "\n",
      "\n",
      "input_img2.size:  2304\n",
      "input_img2.shape: (48, 48)\n",
      "\n",
      "\n",
      "img_data1.size:  961\n",
      "img_data1.shape: (31, 31)\n",
      "img_data1[0]: \n",
      " [ 54  86  57  51  70 132 189 195 205 210 213 217 217 216 216 217 215 211\n",
      " 207 200 187 177 150 130 113  96  87  84  92  81  87]\n",
      "\n",
      "\n",
      "img_data2.size:  2304\n",
      "img_data2.shape: (48, 48)\n",
      "img_data2[0]: \n",
      " [ 54  69  83  64  54  52  64  91 131 168 191 194 201 206 209 211 214 216\n",
      " 217 217 216 216 216 217 216 215 212 210 207 203 197 189 182 173 156 141\n",
      " 129 118 107  96  90  86  84  89  89  82  84  87]\n",
      "\n",
      "\n",
      "img_data3.size:  2304\n",
      "img_data3.shape: (48, 48)\n",
      "img_data3[0]: \n",
      " [ 54  69  83  64  54  52  64  91 131 168 191 194 201 206 209 211 214 216\n",
      " 217 217 216 216 216 217 216 215 212 210 207 203 197 189 182 173 156 141\n",
      " 129 118 107  96  90  86  84  89  89  82  84  87]\n",
      "\n",
      "\n",
      "img_data4.size:  2304\n",
      "img_data4.shape: (48, 48)\n",
      "\n",
      "\n",
      "img_data4[0]: \n",
      " [0.21176471 0.27058824 0.3254902  0.25098039 0.21176471 0.20392157\n",
      " 0.25098039 0.35686275 0.51372549 0.65882353 0.74901961 0.76078431\n",
      " 0.78823529 0.80784314 0.81960784 0.82745098 0.83921569 0.84705882\n",
      " 0.85098039 0.85098039 0.84705882 0.84705882 0.84705882 0.85098039\n",
      " 0.84705882 0.84313725 0.83137255 0.82352941 0.81176471 0.79607843\n",
      " 0.77254902 0.74117647 0.71372549 0.67843137 0.61176471 0.55294118\n",
      " 0.50588235 0.4627451  0.41960784 0.37647059 0.35294118 0.3372549\n",
      " 0.32941176 0.34901961 0.34901961 0.32156863 0.32941176 0.34117647]\n",
      "\n",
      "\n",
      "img_data4.squeeze()*255: \n",
      " [[ 54.  69.  83. ...  82.  84.  87.]\n",
      " [ 58.  69.  80. ...  90.  89.  90.]\n",
      " [ 62.  70.  76. ...  98.  96.  94.]\n",
      " ...\n",
      " [ 64.  59.  52. ... 191. 188. 185.]\n",
      " [ 61.  57.  51. ... 189. 189. 188.]\n",
      " [ 60.  56.  50. ... 188. 189. 191.]]\n",
      "\n",
      "\n",
      "img_data4.squeeze()[0]*255: \n",
      " [ 54.  69.  83.  64.  54.  52.  64.  91. 131. 168. 191. 194. 201. 206.\n",
      " 209. 211. 214. 216. 217. 217. 216. 216. 216. 217. 216. 215. 212. 210.\n",
      " 207. 203. 197. 189. 182. 173. 156. 141. 129. 118. 107.  96.  90.  86.\n",
      "  84.  89.  89.  82.  84.  87.]\n",
      "\n",
      "\n",
      "PIC.size:  2304\n",
      "PIC.shape:  (48, 48)\n",
      "\n",
      "\n",
      "PIC.squeeze()*255 \n",
      " [[ 54.  69.  83. ...  82.  84.  87.]\n",
      " [ 58.  69.  80. ...  90.  89.  90.]\n",
      " [ 62.  70.  76. ...  98.  96.  94.]\n",
      " ...\n",
      " [ 64.  59.  52. ... 191. 188. 185.]\n",
      " [ 61.  57.  51. ... 189. 189. 188.]\n",
      " [ 60.  56.  50. ... 188. 189. 191.]]\n",
      "\n",
      "\n",
      "PIC.squeeze()[0]*255 \n",
      " [ 54.  69.  83.  64.  54.  52.  64.  91. 131. 168. 191. 194. 201. 206.\n",
      " 209. 211. 214. 216. 217. 217. 216. 216. 216. 217. 216. 215. 212. 210.\n",
      " 207. 203. 197. 189. 182. 173. 156. 141. 129. 118. 107.  96.  90.  86.\n",
      "  84.  89.  89.  82.  84.  87.]\n"
     ]
    }
   ],
   "source": [
    "print('input_img1.size: ',input_img1.size)\n",
    "print('input_img1.shape:',input_img1.shape)\n",
    "#print('input_img1[0]:',\"\\n\",input_img1[0])\n",
    "print(\"\\n\")\n",
    "print('input_img2.size: ',input_img2.size)\n",
    "print('input_img2.shape:',input_img2.shape)\n",
    "#print('input_img2[0]:',\"\\n\",input_img2[0])\n",
    "print(\"\\n\")\n",
    "print('img_data1.size: ',img_data1.size)\n",
    "print('img_data1.shape:',img_data1.shape)\n",
    "print('img_data1[0]:',\"\\n\",img_data1[0])\n",
    "print(\"\\n\")\n",
    "print('img_data2.size: ',img_data2.size)\n",
    "print('img_data2.shape:',img_data2.shape)\n",
    "print('img_data2[0]:',\"\\n\",img_data2[0])\n",
    "print(\"\\n\")\n",
    "print('img_data3.size: ',img_data3.size)\n",
    "print('img_data3.shape:',img_data3.shape)\n",
    "print('img_data3[0]:',\"\\n\",img_data3[0])\n",
    "print(\"\\n\")\n",
    "print('img_data4.size: ',img_data4.size)\n",
    "print('img_data4.shape:',img_data4.shape)\n",
    "print(\"\\n\")\n",
    "print('img_data4[0]:',\"\\n\",img_data4[0])\n",
    "print(\"\\n\")\n",
    "print('img_data4.squeeze()*255:',\"\\n\",img_data4.squeeze()*255)\n",
    "print(\"\\n\")\n",
    "print('img_data4.squeeze()[0]*255:',\"\\n\",img_data4.squeeze()[0]*255)\n",
    "print(\"\\n\")\n",
    "print('PIC.size: ',PIC.size)\n",
    "print('PIC.shape: ',PIC.shape)\n",
    "print(\"\\n\")\n",
    "print('PIC.squeeze()*255',\"\\n\",PIC.squeeze()*255)\n",
    "print(\"\\n\")\n",
    "print('PIC.squeeze()[0]*255',\"\\n\",PIC.squeeze()[0]*255)\n"
   ]
  },
  {
   "cell_type": "code",
   "execution_count": 133,
   "id": "8fce6027",
   "metadata": {
    "scrolled": true
   },
   "outputs": [
    {
     "name": "stdout",
     "output_type": "stream",
     "text": [
      "transforming image from /Users/cris/Iron/inp1/train/0.jpg\n",
      "PIC.size:  2304\n",
      "PIC.shape:  (48, 48)\n"
     ]
    }
   ],
   "source": [
    "PIC = transfImag(str(ferdi))\n",
    "print('PIC.size: ',PIC.size)\n",
    "print('PIC.shape: ',PIC.shape)"
   ]
  },
  {
   "cell_type": "code",
   "execution_count": 125,
   "id": "5994c77a",
   "metadata": {},
   "outputs": [
    {
     "name": "stdout",
     "output_type": "stream",
     "text": [
      "transforming image from /Users/cris/Iron/inp1/train/0.jpg\n",
      "<class 'numpy.ndarray'>\n",
      "(1, 48, 48, 1)\n"
     ]
    },
    {
     "data": {
      "image/png": "[encoded data removed]",
      "text/plain": [
       "<Figure size 432x288 with 2 Axes>"
      ]
     },
     "metadata": {
      "needs_background": "light"
     },
     "output_type": "display_data"
    }
   ],
   "source": [
    "\n",
    "PIC = transfImag(str(ferdi)) # transform pic\n",
    "print(type(PIC))\n",
    "\n",
    "input_img=cv2.imread(str(ferdi)) # get the array of the original pic\n",
    "\n",
    "plt.subplot(121)\n",
    "plt.imshow(input_img) # original pic\n",
    "\n",
    "plt.subplot(122)\n",
    "plt.imshow(Image.fromarray(PIC.squeeze()*255)) # transformed pic\n",
    "\n",
    "PIC = np.expand_dims(PIC,axis=0).reshape(np.expand_dims(PIC,axis=0).shape[0], 48, 48, 1)\n",
    "print(PIC.shape)"
   ]
  },
  {
   "cell_type": "code",
   "execution_count": 95,
   "id": "c407ae54",
   "metadata": {},
   "outputs": [],
   "source": [
    "ferdi_pil_img = Image.open(str(ferdi))"
   ]
  },
  {
   "cell_type": "code",
   "execution_count": 96,
   "id": "538d4844",
   "metadata": {},
   "outputs": [
    {
     "data": {
      "text/plain": [
       "(48, 48)"
      ]
     },
     "execution_count": 96,
     "metadata": {},
     "output_type": "execute_result"
    }
   ],
   "source": [
    "ferdi_pil_img.size"
   ]
  },
  {
   "cell_type": "code",
   "execution_count": 97,
   "id": "9befc76b",
   "metadata": {},
   "outputs": [],
   "source": [
    "ferdi_pil_img.show()"
   ]
  },
  {
   "cell_type": "code",
   "execution_count": 89,
   "id": "ea79f8db",
   "metadata": {},
   "outputs": [],
   "source": [
    "ccc2 = ccc_pil_img.resize((48,48))"
   ]
  },
  {
   "cell_type": "code",
   "execution_count": 90,
   "id": "fba60a5a",
   "metadata": {},
   "outputs": [
    {
     "data": {
      "text/plain": [
       "(48, 48)"
      ]
     },
     "execution_count": 90,
     "metadata": {},
     "output_type": "execute_result"
    }
   ],
   "source": [
    "ccc2.size"
   ]
  },
  {
   "cell_type": "code",
   "execution_count": 91,
   "id": "fb98d403",
   "metadata": {},
   "outputs": [
    {
     "data": {
      "text/plain": [
       "PIL.Image.Image"
      ]
     },
     "execution_count": 91,
     "metadata": {},
     "output_type": "execute_result"
    }
   ],
   "source": [
    "type(ccc2)"
   ]
  },
  {
   "cell_type": "code",
   "execution_count": 92,
   "id": "d5dccb81",
   "metadata": {},
   "outputs": [],
   "source": [
    "ccc2.show()"
   ]
  },
  {
   "cell_type": "code",
   "execution_count": 99,
   "id": "a9f7b1f1",
   "metadata": {},
   "outputs": [
    {
     "data": {
      "image/png": "[encoded data removed]",
      "text/plain": [
       "<PIL.JpegImagePlugin.JpegImageFile image mode=L size=48x48 at 0x7F96C2C5BF70>"
      ]
     },
     "metadata": {},
     "output_type": "display_data"
    }
   ],
   "source": [
    "display(ferdi_pil_img)"
   ]
  },
  {
   "cell_type": "code",
   "execution_count": 101,
   "id": "f3e26d06",
   "metadata": {},
   "outputs": [],
   "source": [
    "ferdiarray = np.asarray(ferdi_pil_img)"
   ]
  },
  {
   "cell_type": "code",
   "execution_count": 106,
   "id": "fb6d75df",
   "metadata": {},
   "outputs": [
    {
     "name": "stdout",
     "output_type": "stream",
     "text": [
      "2304 (48, 48)\n"
     ]
    }
   ],
   "source": [
    "print(ferdiarray.size, ferdiarray.shape)"
   ]
  },
  {
   "cell_type": "code",
   "execution_count": 103,
   "id": "d1a45dc7",
   "metadata": {},
   "outputs": [
    {
     "name": "stdout",
     "output_type": "stream",
     "text": [
      "6912 (48, 48, 3)\n"
     ]
    },
    {
     "data": {
      "text/plain": [
       "array([[[57, 71, 51],\n",
       "        [59, 73, 54],\n",
       "        [61, 76, 56],\n",
       "        ...,\n",
       "        [54, 68, 49],\n",
       "        [54, 68, 48],\n",
       "        [53, 67, 48]],\n",
       "\n",
       "       [[56, 70, 52],\n",
       "        [58, 73, 54],\n",
       "        [61, 76, 56],\n",
       "        ...,\n",
       "        [54, 68, 49],\n",
       "        [55, 69, 50],\n",
       "        [55, 69, 49]],\n",
       "\n",
       "       [[55, 70, 50],\n",
       "        [59, 73, 54],\n",
       "        [60, 75, 55],\n",
       "        ...,\n",
       "        [54, 68, 49],\n",
       "        [53, 67, 48],\n",
       "        [50, 64, 44]],\n",
       "\n",
       "       ...,\n",
       "\n",
       "       [[35, 52, 32],\n",
       "        [36, 54, 34],\n",
       "        [35, 52, 35],\n",
       "        ...,\n",
       "        [30, 43, 28],\n",
       "        [33, 47, 30],\n",
       "        [33, 46, 29]],\n",
       "\n",
       "       [[35, 51, 32],\n",
       "        [35, 53, 33],\n",
       "        [35, 51, 33],\n",
       "        ...,\n",
       "        [28, 42, 27],\n",
       "        [33, 46, 29],\n",
       "        [33, 46, 29]],\n",
       "\n",
       "       [[34, 50, 31],\n",
       "        [34, 52, 32],\n",
       "        [35, 49, 32],\n",
       "        ...,\n",
       "        [28, 41, 27],\n",
       "        [32, 45, 29],\n",
       "        [32, 45, 29]]], dtype=uint8)"
      ]
     },
     "execution_count": 103,
     "metadata": {},
     "output_type": "execute_result"
    }
   ],
   "source": [
    "cccarray225 = np.asarray(ccc2)\n",
    "print(cccarray225.size, cccarray225.shape)\n",
    "cccarray225"
   ]
  },
  {
   "cell_type": "code",
   "execution_count": 104,
   "id": "41caac5e",
   "metadata": {},
   "outputs": [
    {
     "name": "stdout",
     "output_type": "stream",
     "text": [
      "6912 (48, 48, 3)\n"
     ]
    },
    {
     "data": {
      "text/plain": [
       "array([[[57, 71, 51],\n",
       "        [59, 73, 54],\n",
       "        [61, 76, 56],\n",
       "        ...,\n",
       "        [54, 68, 49],\n",
       "        [54, 68, 48],\n",
       "        [53, 67, 48]],\n",
       "\n",
       "       [[56, 70, 52],\n",
       "        [58, 73, 54],\n",
       "        [61, 76, 56],\n",
       "        ...,\n",
       "        [54, 68, 49],\n",
       "        [55, 69, 50],\n",
       "        [55, 69, 49]],\n",
       "\n",
       "       [[55, 70, 50],\n",
       "        [59, 73, 54],\n",
       "        [60, 75, 55],\n",
       "        ...,\n",
       "        [54, 68, 49],\n",
       "        [53, 67, 48],\n",
       "        [50, 64, 44]],\n",
       "\n",
       "       ...,\n",
       "\n",
       "       [[35, 52, 32],\n",
       "        [36, 54, 34],\n",
       "        [35, 52, 35],\n",
       "        ...,\n",
       "        [30, 43, 28],\n",
       "        [33, 47, 30],\n",
       "        [33, 46, 29]],\n",
       "\n",
       "       [[35, 51, 32],\n",
       "        [35, 53, 33],\n",
       "        [35, 51, 33],\n",
       "        ...,\n",
       "        [28, 42, 27],\n",
       "        [33, 46, 29],\n",
       "        [33, 46, 29]],\n",
       "\n",
       "       [[34, 50, 31],\n",
       "        [34, 52, 32],\n",
       "        [35, 49, 32],\n",
       "        ...,\n",
       "        [28, 41, 27],\n",
       "        [32, 45, 29],\n",
       "        [32, 45, 29]]], dtype=uint8)"
      ]
     },
     "execution_count": 104,
     "metadata": {},
     "output_type": "execute_result"
    }
   ],
   "source": [
    "cccarray = np.asarray(ccc2)\n",
    "print(cccarray.size, cccarray.shape)\n",
    "cccarray"
   ]
  },
  {
   "cell_type": "code",
   "execution_count": 67,
   "id": "f0065951",
   "metadata": {},
   "outputs": [],
   "source": [
    "cccarray225 = np.asarray(ccc2)/255"
   ]
  },
  {
   "cell_type": "code",
   "execution_count": null,
   "id": "11e6e631",
   "metadata": {},
   "outputs": [],
   "source": [
    "def modify_size(img):\n",
    "    size=(48,48)\n",
    "    convert_from = img.resize(size)\n",
    "    face=np.asarray(convert_from)/255\n",
    "    return face"
   ]
  },
  {
   "cell_type": "code",
   "execution_count": null,
   "id": "ac507d58",
   "metadata": {},
   "outputs": [],
   "source": [
    "from IPython.display import display\n",
    "def modify_size(img):\n",
    "    size=(48,48)\n",
    "    convert_from = img.resize(size)\n",
    "    print(type(convert_from))\n",
    "    display(convert_from)\n",
    "    convert_from.save(str(ccc.parent/'convert_from1.jpg'))\n",
    "    print(convert_from.size)\n",
    "    face=np.asarray(convert_from)/255\n",
    "    pil_face = Image.fromarray(face)\n",
    "    print(type(face))\n",
    "    print(type(pil_face))\n",
    "    print(face.shape)\n",
    "    #display(pil_face)\n",
    "    print(pil_face.size)\n",
    "    return face"
   ]
  }
 ],
 "metadata": {
  "kernelspec": {
   "display_name": "iron",
   "language": "python",
   "name": "iron"
  },
  "language_info": {
   "codemirror_mode": {
    "name": "ipython",
    "version": 3
   },
   "file_extension": ".py",
   "mimetype": "text/x-python",
   "name": "python",
   "nbconvert_exporter": "python",
   "pygments_lexer": "ipython3",
   "version": "3.8.5"
  }
 },
 "nbformat": 4,
 "nbformat_minor": 5
}
