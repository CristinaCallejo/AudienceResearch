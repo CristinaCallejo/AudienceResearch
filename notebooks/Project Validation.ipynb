{
 "cells": [
  {
   "cell_type": "markdown",
   "metadata": {},
   "source": [
    "# Project Validation"
   ]
  },
  {
   "cell_type": "markdown",
   "metadata": {},
   "source": [
    "## Facial Emotion Recognition"
   ]
  },
  {
   "cell_type": "markdown",
   "metadata": {},
   "source": [
    "**Motivation**: Analyse audience feedback during a streamed live show to collect data that may help shape future content. Live shows 2.0: Initial steps into creating content specifically designed to be exhibited in streaming platforms: studying Emotion Recognition to analyze audience preferences. Analyse images from existing datasets in order to train a CNN that can distinguish a basic response of the subject when stimulated by AV content."
   ]
  },
  {
   "cell_type": "markdown",
   "metadata": {},
   "source": [
    "## How-to\n",
    "\n",
    "   #### Read projects and literature on the subject -> Ironhack, Medium\n",
    "   - (song_for_your_mood)[https://github.com/Jorge-Doncel/Song-for-your-mood]\n",
    "   - dice-scores-recognition\n",
    "   - its-a-jeancha\n",
    "   \n",
    "   \n",
    "   #### Breakdown libraries and material neeeded to develop project\n",
    "   \n",
    "   \n",
    "   #### Re-establish sections\n",
    "   \n",
    "   \n",
    "   #### Collect data -> Fer13, capture images from frames camera recording.\n",
    "   - preview existing data\n",
    "   - image capture\n",
    "   - docstrins & code modulation\n",
    "     \n",
    "\n",
    "   #### Split data\n",
    "   \n",
    "   \n",
    "   #### Facial detection -> OpenCV, Haar Cascade Classifier.\n",
    "   - rgb images, skin color, facial patterns, rectangle \n",
    "   - docstrings & code modulation\n",
    "     \n",
    "     \n",
    "   #### Emotion recognition -> Keras, CNN\n",
    "   - predict for 'happy' response\n",
    "   - benchmarking, classification\n",
    "   - docstrings & code modulation\n",
    "     \n",
    "     \n",
    "   #### Visualization: results\n",
    "   \n",
    "   \n",
    "   #### Conclusions and final thoughts on results\n",
    "   \n",
    "   \n",
    "   #### Visualization: process\n",
    "   \n",
    "   \n",
    "   #### Extra: simulate experiment with visual cues for real-time capture and postprocessing."
   ]
  },
  {
   "cell_type": "code",
   "execution_count": null,
   "metadata": {},
   "outputs": [],
   "source": [
    "conda activate end\n",
    "jupyter kernelspec uninstall end\n",
    "conda install ipykernel\n",
    "python -m ipykernel install --user --name"
   ]
  },
  {
   "cell_type": "code",
   "execution_count": null,
   "metadata": {},
   "outputs": [],
   "source": []
  }
 ],
 "metadata": {
  "kernelspec": {
   "display_name": "python_monarch",
   "language": "python",
   "name": "monarch"
  },
  "language_info": {
   "codemirror_mode": {
    "name": "ipython",
    "version": 3
   },
   "file_extension": ".py",
   "mimetype": "text/x-python",
   "name": "python",
   "nbconvert_exporter": "python",
   "pygments_lexer": "ipython3",
   "version": "3.9.2"
  },
  "toc": {
   "base_numbering": 1,
   "nav_menu": {},
   "number_sections": false,
   "sideBar": true,
   "skip_h1_title": false,
   "title_cell": "Table of Contents",
   "title_sidebar": "Contents",
   "toc_cell": false,
   "toc_position": {},
   "toc_section_display": true,
   "toc_window_display": false
  },
  "varInspector": {
   "cols": {
    "lenName": 16,
    "lenType": 16,
    "lenVar": 40
   },
   "kernels_config": {
    "python": {
     "delete_cmd_postfix": "",
     "delete_cmd_prefix": "del ",
     "library": "var_list.py",
     "varRefreshCmd": "print(var_dic_list())"
    },
    "r": {
     "delete_cmd_postfix": ") ",
     "delete_cmd_prefix": "rm(",
     "library": "var_list.r",
     "varRefreshCmd": "cat(var_dic_list()) "
    }
   },
   "types_to_exclude": [
    "module",
    "function",
    "builtin_function_or_method",
    "instance",
    "_Feature"
   ],
   "window_display": false
  }
 },
 "nbformat": 4,
 "nbformat_minor": 4
}
