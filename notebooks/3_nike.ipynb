{
 "cells": [
  {
   "cell_type": "code",
   "execution_count": 1,
   "id": "8bdaf3d7",
   "metadata": {},
   "outputs": [],
   "source": [
    "# https://towardsdatascience.com/how-to-build-a-convolutional-network-classifier-81eef880715e"
   ]
  },
  {
   "cell_type": "code",
   "execution_count": 1,
   "id": "07b0ddfd",
   "metadata": {},
   "outputs": [],
   "source": [
    "import numpy as np\n",
    "\n",
    "import os\n",
    "import sys\n",
    "sys.path.append('../src')\n",
    "from pathlib import Path\n",
    "\n",
    "from random import shuffle\n",
    "#from tqdm import tqdm\n",
    "\n",
    "from PIL import Image\n",
    "import matplotlib.pyplot as plt\n",
    "\n",
    "#import matplotlib.image as imgplt\n",
    "#import cv2\n"
   ]
  },
  {
   "cell_type": "code",
   "execution_count": 3,
   "id": "a3a9f517",
   "metadata": {},
   "outputs": [],
   "source": [
    "inp1_path = Path.home()/'Iron'/'inp1'"
   ]
  },
  {
   "cell_type": "code",
   "execution_count": 4,
   "id": "b771b518",
   "metadata": {},
   "outputs": [],
   "source": [
    "train_imgs_path = inp1_path/'train'/'TRAIN_HAPPY'\n",
    "test_imgs_path = inp1_path/'test_validation'/'TEST_HAPPY'"
   ]
  },
  {
   "cell_type": "code",
   "execution_count": null,
   "id": "990be1d3",
   "metadata": {},
   "outputs": [],
   "source": []
  }
 ],
 "metadata": {
  "kernelspec": {
   "display_name": "iron",
   "language": "python",
   "name": "iron"
  },
  "language_info": {
   "codemirror_mode": {
    "name": "ipython",
    "version": 3
   },
   "file_extension": ".py",
   "mimetype": "text/x-python",
   "name": "python",
   "nbconvert_exporter": "python",
   "pygments_lexer": "ipython3",
   "version": "3.8.5"
  }
 },
 "nbformat": 4,
 "nbformat_minor": 5
}
