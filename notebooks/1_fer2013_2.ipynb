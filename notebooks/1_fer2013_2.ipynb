{
 "cells": [
  {
   "cell_type": "code",
   "execution_count": 2,
   "id": "8644718c",
   "metadata": {},
   "outputs": [],
   "source": [
    "import numpy as np\n",
    "import pandas as pd\n",
    "\n",
    "import os\n",
    "#os.sys.path\n",
    "import sys\n",
    "sys.path.append('../src')\n",
    "\n",
    "from pathlib import Path\n",
    "\n",
    "import matplotlib.pyplot as plt\n",
    "from PIL import Image\n",
    "from numpy import asarray\n",
    "import cv2\n",
    "\n",
    "import os\n",
    "os.environ['TF_CPP_MIN_LOG_LEVEL'] = '2'"
   ]
  },
  {
   "cell_type": "code",
   "execution_count": 3,
   "id": "f890de00",
   "metadata": {},
   "outputs": [],
   "source": [
    "# importing tensorflow model libraries\n",
    "import tensorflow as tf\n",
    "from tensorflow.keras.models import Sequential\n",
    "from tensorflow.keras.layers import Conv2D, MaxPooling2D, AveragePooling2D\n",
    "from tensorflow.keras.layers import Dense, Activation, Dropout, Flatten, BatchNormalization\n",
    "from tensorflow.keras.preprocessing import image\n",
    "from tensorflow.keras.preprocessing.image import ImageDataGenerator\n",
    "from tensorflow.keras.metrics import categorical_accuracy\n",
    "from tensorflow.keras.models import model_from_json,load_model\n",
    "from tensorflow.keras.utils import to_categorical\n",
    "from tensorflow.keras.callbacks import ModelCheckpoint, CSVLogger, EarlyStopping, ReduceLROnPlateau\n",
    "from tensorflow.keras.optimizers import *\n",
    "import tensorflow.keras.backend as K\n",
    "import json\n",
    "import time"
   ]
  },
  {
   "cell_type": "code",
   "execution_count": 4,
   "id": "bc2b27d2",
   "metadata": {},
   "outputs": [],
   "source": [
    "from sklearn.model_selection import train_test_split"
   ]
  },
  {
   "cell_type": "markdown",
   "id": "c2855c31",
   "metadata": {},
   "source": [
    "### IMGS"
   ]
  },
  {
   "cell_type": "code",
   "execution_count": null,
   "id": "f90ec25f",
   "metadata": {},
   "outputs": [],
   "source": [
    "inp1 = Path.home()/'Iron'/'inp1'"
   ]
  },
  {
   "cell_type": "code",
   "execution_count": null,
   "id": "2ad1a822",
   "metadata": {},
   "outputs": [],
   "source": [
    "train_imgs = inp1/'TRAIN'\n",
    "train_imgs_haar = inp1/'TRAIN_haar'\n",
    "val_imgs = inp1/'VALIDATION'\n",
    "test_imgs = inp1/'TEST'\n",
    "demo_imgs = Path.cwd().parent/'demo'\n",
    "demo_imgs_faces = Path.cwd().parent/'demo_haar'\n",
    "demo_imgs_haar = Path.cwd().parent/'demo_faces'"
   ]
  },
  {
   "cell_type": "markdown",
   "id": "91842018",
   "metadata": {},
   "source": [
    "### DATASETS to check"
   ]
  },
  {
   "cell_type": "code",
   "execution_count": null,
   "id": "978d7a1a",
   "metadata": {},
   "outputs": [],
   "source": [
    "# df_fer_ok --> sin dummies\n",
    "# df_fer_top --> con dummies!"
   ]
  },
  {
   "cell_type": "code",
   "execution_count": null,
   "id": "b7c61700",
   "metadata": {},
   "outputs": [],
   "source": [
    "df_fer = pd.read_csv(inp1/'Fer.csv',encoding = \"ISO-8859-1\")\n",
    "df_train = pd.read_csv(inp1/'Training_Data.csv',encoding = \"ISO-8859-1\")\n",
    "df_test = pd.read_csv(inp1/'Testing_Data.csv',encoding = \"ISO-8859-1\")\n",
    "df_val = pd.read_csv(inp1/'Validation_Data.csv',encoding = \"ISO-8859-1\")"
   ]
  },
  {
   "cell_type": "code",
   "execution_count": 57,
   "id": "c8901b1e",
   "metadata": {},
   "outputs": [],
   "source": [
    "face_cascade = cv2.CascadeClassifier('../src/haarcascade_frontalface_default.xml')\n",
    "eye_cascade = cv2.CascadeClassifier('../src/haarcascade_eye.xml')\n",
    "smile_cascade = cv2.CascadeClassifier('../src/haarcascade_smile.xml')"
   ]
  },
  {
   "cell_type": "code",
   "execution_count": 5,
   "id": "9a02043a",
   "metadata": {},
   "outputs": [],
   "source": [
    "df_fer = pd.read_csv(\"Fer.csv\")"
   ]
  },
  {
   "cell_type": "code",
   "execution_count": 6,
   "id": "17785e84",
   "metadata": {},
   "outputs": [
    {
     "name": "stdout",
     "output_type": "stream",
     "text": [
      "(35887, 3) 107661 Index(['emotion', 'pixels', 'Usage'], dtype='object')\n"
     ]
    }
   ],
   "source": [
    "df = df_fer.copy()\n",
    "print(df.shape, df.size, df.columns)"
   ]
  },
  {
   "cell_type": "code",
   "execution_count": 7,
   "id": "fd00ecac",
   "metadata": {},
   "outputs": [
    {
     "data": {
      "text/plain": [
       "array([0, 2, 4, 6, 3, 5, 1])"
      ]
     },
     "execution_count": 7,
     "metadata": {},
     "output_type": "execute_result"
    }
   ],
   "source": [
    "df.emotion.unique()"
   ]
  },
  {
   "cell_type": "code",
   "execution_count": 8,
   "id": "898015d5",
   "metadata": {},
   "outputs": [],
   "source": [
    "emos = {0:'Angry',1: 'Disgust',2:'Fear',3:'Happy',4:'Sad',5:'Surprise',6:'Neutral'}\n",
    "#df['emos'] = df.emotion.map(emos)\n",
    "df['emotion_names'] = df.emotion.map(emos)"
   ]
  },
  {
   "cell_type": "code",
   "execution_count": 9,
   "id": "7d907672",
   "metadata": {},
   "outputs": [],
   "source": [
    "emos2 = {0:'unhappy', 1:'unhappy',2:'unhappy',3:'happy',4:'unhappy',5:'unhappy',6:'unhappy'}"
   ]
  },
  {
   "cell_type": "code",
   "execution_count": 10,
   "id": "2329ba29",
   "metadata": {},
   "outputs": [],
   "source": [
    "df['emo'] = df.emotion.map(emos2).to_numpy()"
   ]
  },
  {
   "cell_type": "code",
   "execution_count": 11,
   "id": "d2e798db",
   "metadata": {},
   "outputs": [
    {
     "data": {
      "text/html": [
       "<div>\n",
       "<style scoped>\n",
       "    .dataframe tbody tr th:only-of-type {\n",
       "        vertical-align: middle;\n",
       "    }\n",
       "\n",
       "    .dataframe tbody tr th {\n",
       "        vertical-align: top;\n",
       "    }\n",
       "\n",
       "    .dataframe thead th {\n",
       "        text-align: right;\n",
       "    }\n",
       "</style>\n",
       "<table border=\"1\" class=\"dataframe\">\n",
       "  <thead>\n",
       "    <tr style=\"text-align: right;\">\n",
       "      <th></th>\n",
       "      <th>emotion</th>\n",
       "      <th>pixels</th>\n",
       "      <th>Usage</th>\n",
       "      <th>emotion_names</th>\n",
       "      <th>emo</th>\n",
       "    </tr>\n",
       "  </thead>\n",
       "  <tbody>\n",
       "    <tr>\n",
       "      <th>0</th>\n",
       "      <td>0</td>\n",
       "      <td>70 80 82 72 58 58 60 63 54 58 60 48 89 115 121...</td>\n",
       "      <td>Training</td>\n",
       "      <td>Angry</td>\n",
       "      <td>unhappy</td>\n",
       "    </tr>\n",
       "    <tr>\n",
       "      <th>1</th>\n",
       "      <td>0</td>\n",
       "      <td>151 150 147 155 148 133 111 140 170 174 182 15...</td>\n",
       "      <td>Training</td>\n",
       "      <td>Angry</td>\n",
       "      <td>unhappy</td>\n",
       "    </tr>\n",
       "    <tr>\n",
       "      <th>2</th>\n",
       "      <td>2</td>\n",
       "      <td>231 212 156 164 174 138 161 173 182 200 106 38...</td>\n",
       "      <td>Training</td>\n",
       "      <td>Fear</td>\n",
       "      <td>unhappy</td>\n",
       "    </tr>\n",
       "    <tr>\n",
       "      <th>3</th>\n",
       "      <td>4</td>\n",
       "      <td>24 32 36 30 32 23 19 20 30 41 21 22 32 34 21 1...</td>\n",
       "      <td>Training</td>\n",
       "      <td>Sad</td>\n",
       "      <td>unhappy</td>\n",
       "    </tr>\n",
       "    <tr>\n",
       "      <th>4</th>\n",
       "      <td>6</td>\n",
       "      <td>4 0 0 0 0 0 0 0 0 0 0 0 3 15 23 28 48 50 58 84...</td>\n",
       "      <td>Training</td>\n",
       "      <td>Neutral</td>\n",
       "      <td>unhappy</td>\n",
       "    </tr>\n",
       "  </tbody>\n",
       "</table>\n",
       "</div>"
      ],
      "text/plain": [
       "   emotion                                             pixels     Usage  \\\n",
       "0        0  70 80 82 72 58 58 60 63 54 58 60 48 89 115 121...  Training   \n",
       "1        0  151 150 147 155 148 133 111 140 170 174 182 15...  Training   \n",
       "2        2  231 212 156 164 174 138 161 173 182 200 106 38...  Training   \n",
       "3        4  24 32 36 30 32 23 19 20 30 41 21 22 32 34 21 1...  Training   \n",
       "4        6  4 0 0 0 0 0 0 0 0 0 0 0 3 15 23 28 48 50 58 84...  Training   \n",
       "\n",
       "  emotion_names      emo  \n",
       "0         Angry  unhappy  \n",
       "1         Angry  unhappy  \n",
       "2          Fear  unhappy  \n",
       "3           Sad  unhappy  \n",
       "4       Neutral  unhappy  "
      ]
     },
     "execution_count": 11,
     "metadata": {},
     "output_type": "execute_result"
    }
   ],
   "source": [
    "df.head()"
   ]
  },
  {
   "cell_type": "code",
   "execution_count": 12,
   "id": "69997e42",
   "metadata": {},
   "outputs": [],
   "source": [
    "emo = pd.get_dummies(df['emo']).to_numpy()"
   ]
  },
  {
   "cell_type": "code",
   "execution_count": 13,
   "id": "164c81ab",
   "metadata": {},
   "outputs": [],
   "source": [
    "df2 = pd.get_dummies(df['emotion']).to_numpy()"
   ]
  },
  {
   "cell_type": "code",
   "execution_count": 14,
   "id": "8f55d9bd",
   "metadata": {},
   "outputs": [
    {
     "data": {
      "text/html": [
       "<div>\n",
       "<style scoped>\n",
       "    .dataframe tbody tr th:only-of-type {\n",
       "        vertical-align: middle;\n",
       "    }\n",
       "\n",
       "    .dataframe tbody tr th {\n",
       "        vertical-align: top;\n",
       "    }\n",
       "\n",
       "    .dataframe thead th {\n",
       "        text-align: right;\n",
       "    }\n",
       "</style>\n",
       "<table border=\"1\" class=\"dataframe\">\n",
       "  <thead>\n",
       "    <tr style=\"text-align: right;\">\n",
       "      <th></th>\n",
       "      <th>emotion</th>\n",
       "      <th>pixels</th>\n",
       "      <th>Usage</th>\n",
       "      <th>emotion_names</th>\n",
       "      <th>emo</th>\n",
       "    </tr>\n",
       "  </thead>\n",
       "  <tbody>\n",
       "    <tr>\n",
       "      <th>0</th>\n",
       "      <td>0</td>\n",
       "      <td>70 80 82 72 58 58 60 63 54 58 60 48 89 115 121...</td>\n",
       "      <td>Training</td>\n",
       "      <td>Angry</td>\n",
       "      <td>unhappy</td>\n",
       "    </tr>\n",
       "    <tr>\n",
       "      <th>1</th>\n",
       "      <td>0</td>\n",
       "      <td>151 150 147 155 148 133 111 140 170 174 182 15...</td>\n",
       "      <td>Training</td>\n",
       "      <td>Angry</td>\n",
       "      <td>unhappy</td>\n",
       "    </tr>\n",
       "    <tr>\n",
       "      <th>2</th>\n",
       "      <td>2</td>\n",
       "      <td>231 212 156 164 174 138 161 173 182 200 106 38...</td>\n",
       "      <td>Training</td>\n",
       "      <td>Fear</td>\n",
       "      <td>unhappy</td>\n",
       "    </tr>\n",
       "    <tr>\n",
       "      <th>3</th>\n",
       "      <td>4</td>\n",
       "      <td>24 32 36 30 32 23 19 20 30 41 21 22 32 34 21 1...</td>\n",
       "      <td>Training</td>\n",
       "      <td>Sad</td>\n",
       "      <td>unhappy</td>\n",
       "    </tr>\n",
       "    <tr>\n",
       "      <th>4</th>\n",
       "      <td>6</td>\n",
       "      <td>4 0 0 0 0 0 0 0 0 0 0 0 3 15 23 28 48 50 58 84...</td>\n",
       "      <td>Training</td>\n",
       "      <td>Neutral</td>\n",
       "      <td>unhappy</td>\n",
       "    </tr>\n",
       "    <tr>\n",
       "      <th>...</th>\n",
       "      <td>...</td>\n",
       "      <td>...</td>\n",
       "      <td>...</td>\n",
       "      <td>...</td>\n",
       "      <td>...</td>\n",
       "    </tr>\n",
       "    <tr>\n",
       "      <th>35882</th>\n",
       "      <td>6</td>\n",
       "      <td>50 36 17 22 23 29 33 39 34 37 37 37 39 43 48 5...</td>\n",
       "      <td>PrivateTest</td>\n",
       "      <td>Neutral</td>\n",
       "      <td>unhappy</td>\n",
       "    </tr>\n",
       "    <tr>\n",
       "      <th>35883</th>\n",
       "      <td>3</td>\n",
       "      <td>178 174 172 173 181 188 191 194 196 199 200 20...</td>\n",
       "      <td>PrivateTest</td>\n",
       "      <td>Happy</td>\n",
       "      <td>happy</td>\n",
       "    </tr>\n",
       "    <tr>\n",
       "      <th>35884</th>\n",
       "      <td>0</td>\n",
       "      <td>17 17 16 23 28 22 19 17 25 26 20 24 31 19 27 9...</td>\n",
       "      <td>PrivateTest</td>\n",
       "      <td>Angry</td>\n",
       "      <td>unhappy</td>\n",
       "    </tr>\n",
       "    <tr>\n",
       "      <th>35885</th>\n",
       "      <td>3</td>\n",
       "      <td>30 28 28 29 31 30 42 68 79 81 77 67 67 71 63 6...</td>\n",
       "      <td>PrivateTest</td>\n",
       "      <td>Happy</td>\n",
       "      <td>happy</td>\n",
       "    </tr>\n",
       "    <tr>\n",
       "      <th>35886</th>\n",
       "      <td>2</td>\n",
       "      <td>19 13 14 12 13 16 21 33 50 57 71 84 97 108 122...</td>\n",
       "      <td>PrivateTest</td>\n",
       "      <td>Fear</td>\n",
       "      <td>unhappy</td>\n",
       "    </tr>\n",
       "  </tbody>\n",
       "</table>\n",
       "<p>35887 rows × 5 columns</p>\n",
       "</div>"
      ],
      "text/plain": [
       "       emotion                                             pixels  \\\n",
       "0            0  70 80 82 72 58 58 60 63 54 58 60 48 89 115 121...   \n",
       "1            0  151 150 147 155 148 133 111 140 170 174 182 15...   \n",
       "2            2  231 212 156 164 174 138 161 173 182 200 106 38...   \n",
       "3            4  24 32 36 30 32 23 19 20 30 41 21 22 32 34 21 1...   \n",
       "4            6  4 0 0 0 0 0 0 0 0 0 0 0 3 15 23 28 48 50 58 84...   \n",
       "...        ...                                                ...   \n",
       "35882        6  50 36 17 22 23 29 33 39 34 37 37 37 39 43 48 5...   \n",
       "35883        3  178 174 172 173 181 188 191 194 196 199 200 20...   \n",
       "35884        0  17 17 16 23 28 22 19 17 25 26 20 24 31 19 27 9...   \n",
       "35885        3  30 28 28 29 31 30 42 68 79 81 77 67 67 71 63 6...   \n",
       "35886        2  19 13 14 12 13 16 21 33 50 57 71 84 97 108 122...   \n",
       "\n",
       "             Usage emotion_names      emo  \n",
       "0         Training         Angry  unhappy  \n",
       "1         Training         Angry  unhappy  \n",
       "2         Training          Fear  unhappy  \n",
       "3         Training           Sad  unhappy  \n",
       "4         Training       Neutral  unhappy  \n",
       "...            ...           ...      ...  \n",
       "35882  PrivateTest       Neutral  unhappy  \n",
       "35883  PrivateTest         Happy    happy  \n",
       "35884  PrivateTest         Angry  unhappy  \n",
       "35885  PrivateTest         Happy    happy  \n",
       "35886  PrivateTest          Fear  unhappy  \n",
       "\n",
       "[35887 rows x 5 columns]"
      ]
     },
     "execution_count": 14,
     "metadata": {},
     "output_type": "execute_result"
    }
   ],
   "source": [
    "df"
   ]
  },
  {
   "cell_type": "code",
   "execution_count": 15,
   "id": "76a5cf34",
   "metadata": {},
   "outputs": [
    {
     "data": {
      "text/plain": [
       "Index(['emotion', 'pixels', 'Usage', 'emotion_names', 'emo'], dtype='object')"
      ]
     },
     "execution_count": 15,
     "metadata": {},
     "output_type": "execute_result"
    }
   ],
   "source": [
    "df.columns"
   ]
  },
  {
   "cell_type": "code",
   "execution_count": 16,
   "id": "3e1d0689",
   "metadata": {},
   "outputs": [],
   "source": [
    "drpp = ['emotion', 'Usage']\n",
    "df2 = df.drop(drpp, axis=1)"
   ]
  },
  {
   "cell_type": "code",
   "execution_count": 17,
   "id": "0edf5d18",
   "metadata": {},
   "outputs": [],
   "source": [
    "pth1 = Path.cwd().parent.parent"
   ]
  },
  {
   "cell_type": "code",
   "execution_count": 18,
   "id": "6c83d313",
   "metadata": {},
   "outputs": [],
   "source": [
    "pth2 = Path.home()/'Iron'/'data_processed'"
   ]
  },
  {
   "cell_type": "code",
   "execution_count": 19,
   "id": "6da86b91",
   "metadata": {},
   "outputs": [],
   "source": [
    "df2.to_csv('df_fer_a.csv')"
   ]
  },
  {
   "cell_type": "code",
   "execution_count": 20,
   "id": "92cc44b7",
   "metadata": {},
   "outputs": [],
   "source": [
    "df3 = df2.copy()"
   ]
  },
  {
   "cell_type": "code",
   "execution_count": 21,
   "id": "164c2718",
   "metadata": {},
   "outputs": [],
   "source": [
    "df3['pixar1'] = [[float(x) for x in each.split()] for each in df3['pixels']]\n",
    "df3['pixar2'] = df3['pixar1'].apply(lambda x: np.asarray(x).reshape(48,48)).apply(lambda x:x.astype('float32'))"
   ]
  },
  {
   "cell_type": "code",
   "execution_count": 22,
   "id": "ccaeb670",
   "metadata": {},
   "outputs": [],
   "source": [
    "df3['emo_arr1'] = df3.pixar2.copy()"
   ]
  },
  {
   "cell_type": "code",
   "execution_count": 23,
   "id": "3b438b87",
   "metadata": {},
   "outputs": [],
   "source": [
    "df3['emo_arr'] = df3['emo_arr1'].apply(lambda x: np.array([[[c] for c in i] for i in x])) "
   ]
  },
  {
   "cell_type": "code",
   "execution_count": 24,
   "id": "f01dc382",
   "metadata": {},
   "outputs": [],
   "source": [
    "df5 = df3.copy()"
   ]
  },
  {
   "cell_type": "code",
   "execution_count": 25,
   "id": "c9188950",
   "metadata": {},
   "outputs": [
    {
     "data": {
      "text/html": [
       "<div>\n",
       "<style scoped>\n",
       "    .dataframe tbody tr th:only-of-type {\n",
       "        vertical-align: middle;\n",
       "    }\n",
       "\n",
       "    .dataframe tbody tr th {\n",
       "        vertical-align: top;\n",
       "    }\n",
       "\n",
       "    .dataframe thead th {\n",
       "        text-align: right;\n",
       "    }\n",
       "</style>\n",
       "<table border=\"1\" class=\"dataframe\">\n",
       "  <thead>\n",
       "    <tr style=\"text-align: right;\">\n",
       "      <th></th>\n",
       "      <th>pixels</th>\n",
       "      <th>emotion_names</th>\n",
       "      <th>emo</th>\n",
       "      <th>pixar1</th>\n",
       "      <th>pixar2</th>\n",
       "      <th>emo_arr1</th>\n",
       "      <th>emo_arr</th>\n",
       "    </tr>\n",
       "  </thead>\n",
       "  <tbody>\n",
       "    <tr>\n",
       "      <th>0</th>\n",
       "      <td>70 80 82 72 58 58 60 63 54 58 60 48 89 115 121...</td>\n",
       "      <td>Angry</td>\n",
       "      <td>unhappy</td>\n",
       "      <td>[70.0, 80.0, 82.0, 72.0, 58.0, 58.0, 60.0, 63....</td>\n",
       "      <td>[[70.0, 80.0, 82.0, 72.0, 58.0, 58.0, 60.0, 63...</td>\n",
       "      <td>[[70.0, 80.0, 82.0, 72.0, 58.0, 58.0, 60.0, 63...</td>\n",
       "      <td>[[[70.0], [80.0], [82.0], [72.0], [58.0], [58....</td>\n",
       "    </tr>\n",
       "    <tr>\n",
       "      <th>1</th>\n",
       "      <td>151 150 147 155 148 133 111 140 170 174 182 15...</td>\n",
       "      <td>Angry</td>\n",
       "      <td>unhappy</td>\n",
       "      <td>[151.0, 150.0, 147.0, 155.0, 148.0, 133.0, 111...</td>\n",
       "      <td>[[151.0, 150.0, 147.0, 155.0, 148.0, 133.0, 11...</td>\n",
       "      <td>[[151.0, 150.0, 147.0, 155.0, 148.0, 133.0, 11...</td>\n",
       "      <td>[[[151.0], [150.0], [147.0], [155.0], [148.0],...</td>\n",
       "    </tr>\n",
       "  </tbody>\n",
       "</table>\n",
       "</div>"
      ],
      "text/plain": [
       "                                              pixels emotion_names      emo  \\\n",
       "0  70 80 82 72 58 58 60 63 54 58 60 48 89 115 121...         Angry  unhappy   \n",
       "1  151 150 147 155 148 133 111 140 170 174 182 15...         Angry  unhappy   \n",
       "\n",
       "                                              pixar1  \\\n",
       "0  [70.0, 80.0, 82.0, 72.0, 58.0, 58.0, 60.0, 63....   \n",
       "1  [151.0, 150.0, 147.0, 155.0, 148.0, 133.0, 111...   \n",
       "\n",
       "                                              pixar2  \\\n",
       "0  [[70.0, 80.0, 82.0, 72.0, 58.0, 58.0, 60.0, 63...   \n",
       "1  [[151.0, 150.0, 147.0, 155.0, 148.0, 133.0, 11...   \n",
       "\n",
       "                                            emo_arr1  \\\n",
       "0  [[70.0, 80.0, 82.0, 72.0, 58.0, 58.0, 60.0, 63...   \n",
       "1  [[151.0, 150.0, 147.0, 155.0, 148.0, 133.0, 11...   \n",
       "\n",
       "                                             emo_arr  \n",
       "0  [[[70.0], [80.0], [82.0], [72.0], [58.0], [58....  \n",
       "1  [[[151.0], [150.0], [147.0], [155.0], [148.0],...  "
      ]
     },
     "execution_count": 25,
     "metadata": {},
     "output_type": "execute_result"
    }
   ],
   "source": [
    "df5.head(2)"
   ]
  },
  {
   "cell_type": "code",
   "execution_count": 26,
   "id": "cfc1be54",
   "metadata": {},
   "outputs": [],
   "source": [
    "df5.to_csv('df_fer_ok.csv')\n"
   ]
  },
  {
   "cell_type": "code",
   "execution_count": 27,
   "id": "e5bbe9f2",
   "metadata": {},
   "outputs": [
    {
     "data": {
      "text/html": [
       "<div>\n",
       "<style scoped>\n",
       "    .dataframe tbody tr th:only-of-type {\n",
       "        vertical-align: middle;\n",
       "    }\n",
       "\n",
       "    .dataframe tbody tr th {\n",
       "        vertical-align: top;\n",
       "    }\n",
       "\n",
       "    .dataframe thead th {\n",
       "        text-align: right;\n",
       "    }\n",
       "</style>\n",
       "<table border=\"1\" class=\"dataframe\">\n",
       "  <thead>\n",
       "    <tr style=\"text-align: right;\">\n",
       "      <th></th>\n",
       "      <th>pixels</th>\n",
       "      <th>emotion_names</th>\n",
       "      <th>emo</th>\n",
       "      <th>pixar1</th>\n",
       "      <th>pixar2</th>\n",
       "      <th>emo_arr1</th>\n",
       "      <th>emo_arr</th>\n",
       "    </tr>\n",
       "  </thead>\n",
       "  <tbody>\n",
       "    <tr>\n",
       "      <th>0</th>\n",
       "      <td>70 80 82 72 58 58 60 63 54 58 60 48 89 115 121...</td>\n",
       "      <td>Angry</td>\n",
       "      <td>unhappy</td>\n",
       "      <td>[70.0, 80.0, 82.0, 72.0, 58.0, 58.0, 60.0, 63....</td>\n",
       "      <td>[[70.0, 80.0, 82.0, 72.0, 58.0, 58.0, 60.0, 63...</td>\n",
       "      <td>[[70.0, 80.0, 82.0, 72.0, 58.0, 58.0, 60.0, 63...</td>\n",
       "      <td>[[[70.0], [80.0], [82.0], [72.0], [58.0], [58....</td>\n",
       "    </tr>\n",
       "    <tr>\n",
       "      <th>1</th>\n",
       "      <td>151 150 147 155 148 133 111 140 170 174 182 15...</td>\n",
       "      <td>Angry</td>\n",
       "      <td>unhappy</td>\n",
       "      <td>[151.0, 150.0, 147.0, 155.0, 148.0, 133.0, 111...</td>\n",
       "      <td>[[151.0, 150.0, 147.0, 155.0, 148.0, 133.0, 11...</td>\n",
       "      <td>[[151.0, 150.0, 147.0, 155.0, 148.0, 133.0, 11...</td>\n",
       "      <td>[[[151.0], [150.0], [147.0], [155.0], [148.0],...</td>\n",
       "    </tr>\n",
       "    <tr>\n",
       "      <th>2</th>\n",
       "      <td>231 212 156 164 174 138 161 173 182 200 106 38...</td>\n",
       "      <td>Fear</td>\n",
       "      <td>unhappy</td>\n",
       "      <td>[231.0, 212.0, 156.0, 164.0, 174.0, 138.0, 161...</td>\n",
       "      <td>[[231.0, 212.0, 156.0, 164.0, 174.0, 138.0, 16...</td>\n",
       "      <td>[[231.0, 212.0, 156.0, 164.0, 174.0, 138.0, 16...</td>\n",
       "      <td>[[[231.0], [212.0], [156.0], [164.0], [174.0],...</td>\n",
       "    </tr>\n",
       "    <tr>\n",
       "      <th>3</th>\n",
       "      <td>24 32 36 30 32 23 19 20 30 41 21 22 32 34 21 1...</td>\n",
       "      <td>Sad</td>\n",
       "      <td>unhappy</td>\n",
       "      <td>[24.0, 32.0, 36.0, 30.0, 32.0, 23.0, 19.0, 20....</td>\n",
       "      <td>[[24.0, 32.0, 36.0, 30.0, 32.0, 23.0, 19.0, 20...</td>\n",
       "      <td>[[24.0, 32.0, 36.0, 30.0, 32.0, 23.0, 19.0, 20...</td>\n",
       "      <td>[[[24.0], [32.0], [36.0], [30.0], [32.0], [23....</td>\n",
       "    </tr>\n",
       "    <tr>\n",
       "      <th>4</th>\n",
       "      <td>4 0 0 0 0 0 0 0 0 0 0 0 3 15 23 28 48 50 58 84...</td>\n",
       "      <td>Neutral</td>\n",
       "      <td>unhappy</td>\n",
       "      <td>[4.0, 0.0, 0.0, 0.0, 0.0, 0.0, 0.0, 0.0, 0.0, ...</td>\n",
       "      <td>[[4.0, 0.0, 0.0, 0.0, 0.0, 0.0, 0.0, 0.0, 0.0,...</td>\n",
       "      <td>[[4.0, 0.0, 0.0, 0.0, 0.0, 0.0, 0.0, 0.0, 0.0,...</td>\n",
       "      <td>[[[4.0], [0.0], [0.0], [0.0], [0.0], [0.0], [0...</td>\n",
       "    </tr>\n",
       "  </tbody>\n",
       "</table>\n",
       "</div>"
      ],
      "text/plain": [
       "                                              pixels emotion_names      emo  \\\n",
       "0  70 80 82 72 58 58 60 63 54 58 60 48 89 115 121...         Angry  unhappy   \n",
       "1  151 150 147 155 148 133 111 140 170 174 182 15...         Angry  unhappy   \n",
       "2  231 212 156 164 174 138 161 173 182 200 106 38...          Fear  unhappy   \n",
       "3  24 32 36 30 32 23 19 20 30 41 21 22 32 34 21 1...           Sad  unhappy   \n",
       "4  4 0 0 0 0 0 0 0 0 0 0 0 3 15 23 28 48 50 58 84...       Neutral  unhappy   \n",
       "\n",
       "                                              pixar1  \\\n",
       "0  [70.0, 80.0, 82.0, 72.0, 58.0, 58.0, 60.0, 63....   \n",
       "1  [151.0, 150.0, 147.0, 155.0, 148.0, 133.0, 111...   \n",
       "2  [231.0, 212.0, 156.0, 164.0, 174.0, 138.0, 161...   \n",
       "3  [24.0, 32.0, 36.0, 30.0, 32.0, 23.0, 19.0, 20....   \n",
       "4  [4.0, 0.0, 0.0, 0.0, 0.0, 0.0, 0.0, 0.0, 0.0, ...   \n",
       "\n",
       "                                              pixar2  \\\n",
       "0  [[70.0, 80.0, 82.0, 72.0, 58.0, 58.0, 60.0, 63...   \n",
       "1  [[151.0, 150.0, 147.0, 155.0, 148.0, 133.0, 11...   \n",
       "2  [[231.0, 212.0, 156.0, 164.0, 174.0, 138.0, 16...   \n",
       "3  [[24.0, 32.0, 36.0, 30.0, 32.0, 23.0, 19.0, 20...   \n",
       "4  [[4.0, 0.0, 0.0, 0.0, 0.0, 0.0, 0.0, 0.0, 0.0,...   \n",
       "\n",
       "                                            emo_arr1  \\\n",
       "0  [[70.0, 80.0, 82.0, 72.0, 58.0, 58.0, 60.0, 63...   \n",
       "1  [[151.0, 150.0, 147.0, 155.0, 148.0, 133.0, 11...   \n",
       "2  [[231.0, 212.0, 156.0, 164.0, 174.0, 138.0, 16...   \n",
       "3  [[24.0, 32.0, 36.0, 30.0, 32.0, 23.0, 19.0, 20...   \n",
       "4  [[4.0, 0.0, 0.0, 0.0, 0.0, 0.0, 0.0, 0.0, 0.0,...   \n",
       "\n",
       "                                             emo_arr  \n",
       "0  [[[70.0], [80.0], [82.0], [72.0], [58.0], [58....  \n",
       "1  [[[151.0], [150.0], [147.0], [155.0], [148.0],...  \n",
       "2  [[[231.0], [212.0], [156.0], [164.0], [174.0],...  \n",
       "3  [[[24.0], [32.0], [36.0], [30.0], [32.0], [23....  \n",
       "4  [[[4.0], [0.0], [0.0], [0.0], [0.0], [0.0], [0...  "
      ]
     },
     "execution_count": 27,
     "metadata": {},
     "output_type": "execute_result"
    }
   ],
   "source": [
    "df5.head()"
   ]
  },
  {
   "cell_type": "code",
   "execution_count": 28,
   "id": "408d5b2e",
   "metadata": {},
   "outputs": [],
   "source": [
    "df6 = pd.get_dummies(df5, columns=['emo'])\n"
   ]
  },
  {
   "cell_type": "code",
   "execution_count": 29,
   "id": "c1d0672f",
   "metadata": {},
   "outputs": [
    {
     "data": {
      "text/html": [
       "<div>\n",
       "<style scoped>\n",
       "    .dataframe tbody tr th:only-of-type {\n",
       "        vertical-align: middle;\n",
       "    }\n",
       "\n",
       "    .dataframe tbody tr th {\n",
       "        vertical-align: top;\n",
       "    }\n",
       "\n",
       "    .dataframe thead th {\n",
       "        text-align: right;\n",
       "    }\n",
       "</style>\n",
       "<table border=\"1\" class=\"dataframe\">\n",
       "  <thead>\n",
       "    <tr style=\"text-align: right;\">\n",
       "      <th></th>\n",
       "      <th>pixels</th>\n",
       "      <th>emotion_names</th>\n",
       "      <th>pixar1</th>\n",
       "      <th>pixar2</th>\n",
       "      <th>emo_arr1</th>\n",
       "      <th>emo_arr</th>\n",
       "      <th>emo_happy</th>\n",
       "      <th>emo_unhappy</th>\n",
       "    </tr>\n",
       "  </thead>\n",
       "  <tbody>\n",
       "    <tr>\n",
       "      <th>0</th>\n",
       "      <td>70 80 82 72 58 58 60 63 54 58 60 48 89 115 121...</td>\n",
       "      <td>Angry</td>\n",
       "      <td>[70.0, 80.0, 82.0, 72.0, 58.0, 58.0, 60.0, 63....</td>\n",
       "      <td>[[70.0, 80.0, 82.0, 72.0, 58.0, 58.0, 60.0, 63...</td>\n",
       "      <td>[[70.0, 80.0, 82.0, 72.0, 58.0, 58.0, 60.0, 63...</td>\n",
       "      <td>[[[70.0], [80.0], [82.0], [72.0], [58.0], [58....</td>\n",
       "      <td>0</td>\n",
       "      <td>1</td>\n",
       "    </tr>\n",
       "    <tr>\n",
       "      <th>1</th>\n",
       "      <td>151 150 147 155 148 133 111 140 170 174 182 15...</td>\n",
       "      <td>Angry</td>\n",
       "      <td>[151.0, 150.0, 147.0, 155.0, 148.0, 133.0, 111...</td>\n",
       "      <td>[[151.0, 150.0, 147.0, 155.0, 148.0, 133.0, 11...</td>\n",
       "      <td>[[151.0, 150.0, 147.0, 155.0, 148.0, 133.0, 11...</td>\n",
       "      <td>[[[151.0], [150.0], [147.0], [155.0], [148.0],...</td>\n",
       "      <td>0</td>\n",
       "      <td>1</td>\n",
       "    </tr>\n",
       "    <tr>\n",
       "      <th>2</th>\n",
       "      <td>231 212 156 164 174 138 161 173 182 200 106 38...</td>\n",
       "      <td>Fear</td>\n",
       "      <td>[231.0, 212.0, 156.0, 164.0, 174.0, 138.0, 161...</td>\n",
       "      <td>[[231.0, 212.0, 156.0, 164.0, 174.0, 138.0, 16...</td>\n",
       "      <td>[[231.0, 212.0, 156.0, 164.0, 174.0, 138.0, 16...</td>\n",
       "      <td>[[[231.0], [212.0], [156.0], [164.0], [174.0],...</td>\n",
       "      <td>0</td>\n",
       "      <td>1</td>\n",
       "    </tr>\n",
       "    <tr>\n",
       "      <th>3</th>\n",
       "      <td>24 32 36 30 32 23 19 20 30 41 21 22 32 34 21 1...</td>\n",
       "      <td>Sad</td>\n",
       "      <td>[24.0, 32.0, 36.0, 30.0, 32.0, 23.0, 19.0, 20....</td>\n",
       "      <td>[[24.0, 32.0, 36.0, 30.0, 32.0, 23.0, 19.0, 20...</td>\n",
       "      <td>[[24.0, 32.0, 36.0, 30.0, 32.0, 23.0, 19.0, 20...</td>\n",
       "      <td>[[[24.0], [32.0], [36.0], [30.0], [32.0], [23....</td>\n",
       "      <td>0</td>\n",
       "      <td>1</td>\n",
       "    </tr>\n",
       "    <tr>\n",
       "      <th>4</th>\n",
       "      <td>4 0 0 0 0 0 0 0 0 0 0 0 3 15 23 28 48 50 58 84...</td>\n",
       "      <td>Neutral</td>\n",
       "      <td>[4.0, 0.0, 0.0, 0.0, 0.0, 0.0, 0.0, 0.0, 0.0, ...</td>\n",
       "      <td>[[4.0, 0.0, 0.0, 0.0, 0.0, 0.0, 0.0, 0.0, 0.0,...</td>\n",
       "      <td>[[4.0, 0.0, 0.0, 0.0, 0.0, 0.0, 0.0, 0.0, 0.0,...</td>\n",
       "      <td>[[[4.0], [0.0], [0.0], [0.0], [0.0], [0.0], [0...</td>\n",
       "      <td>0</td>\n",
       "      <td>1</td>\n",
       "    </tr>\n",
       "  </tbody>\n",
       "</table>\n",
       "</div>"
      ],
      "text/plain": [
       "                                              pixels emotion_names  \\\n",
       "0  70 80 82 72 58 58 60 63 54 58 60 48 89 115 121...         Angry   \n",
       "1  151 150 147 155 148 133 111 140 170 174 182 15...         Angry   \n",
       "2  231 212 156 164 174 138 161 173 182 200 106 38...          Fear   \n",
       "3  24 32 36 30 32 23 19 20 30 41 21 22 32 34 21 1...           Sad   \n",
       "4  4 0 0 0 0 0 0 0 0 0 0 0 3 15 23 28 48 50 58 84...       Neutral   \n",
       "\n",
       "                                              pixar1  \\\n",
       "0  [70.0, 80.0, 82.0, 72.0, 58.0, 58.0, 60.0, 63....   \n",
       "1  [151.0, 150.0, 147.0, 155.0, 148.0, 133.0, 111...   \n",
       "2  [231.0, 212.0, 156.0, 164.0, 174.0, 138.0, 161...   \n",
       "3  [24.0, 32.0, 36.0, 30.0, 32.0, 23.0, 19.0, 20....   \n",
       "4  [4.0, 0.0, 0.0, 0.0, 0.0, 0.0, 0.0, 0.0, 0.0, ...   \n",
       "\n",
       "                                              pixar2  \\\n",
       "0  [[70.0, 80.0, 82.0, 72.0, 58.0, 58.0, 60.0, 63...   \n",
       "1  [[151.0, 150.0, 147.0, 155.0, 148.0, 133.0, 11...   \n",
       "2  [[231.0, 212.0, 156.0, 164.0, 174.0, 138.0, 16...   \n",
       "3  [[24.0, 32.0, 36.0, 30.0, 32.0, 23.0, 19.0, 20...   \n",
       "4  [[4.0, 0.0, 0.0, 0.0, 0.0, 0.0, 0.0, 0.0, 0.0,...   \n",
       "\n",
       "                                            emo_arr1  \\\n",
       "0  [[70.0, 80.0, 82.0, 72.0, 58.0, 58.0, 60.0, 63...   \n",
       "1  [[151.0, 150.0, 147.0, 155.0, 148.0, 133.0, 11...   \n",
       "2  [[231.0, 212.0, 156.0, 164.0, 174.0, 138.0, 16...   \n",
       "3  [[24.0, 32.0, 36.0, 30.0, 32.0, 23.0, 19.0, 20...   \n",
       "4  [[4.0, 0.0, 0.0, 0.0, 0.0, 0.0, 0.0, 0.0, 0.0,...   \n",
       "\n",
       "                                             emo_arr  emo_happy  emo_unhappy  \n",
       "0  [[[70.0], [80.0], [82.0], [72.0], [58.0], [58....          0            1  \n",
       "1  [[[151.0], [150.0], [147.0], [155.0], [148.0],...          0            1  \n",
       "2  [[[231.0], [212.0], [156.0], [164.0], [174.0],...          0            1  \n",
       "3  [[[24.0], [32.0], [36.0], [30.0], [32.0], [23....          0            1  \n",
       "4  [[[4.0], [0.0], [0.0], [0.0], [0.0], [0.0], [0...          0            1  "
      ]
     },
     "execution_count": 29,
     "metadata": {},
     "output_type": "execute_result"
    }
   ],
   "source": [
    "df6.head()"
   ]
  },
  {
   "cell_type": "code",
   "execution_count": 30,
   "id": "9da2d5f8",
   "metadata": {},
   "outputs": [],
   "source": [
    "df6['dums'] = df6[['emo_happy','emo_unhappy']].apply(lambda x: pd.Series([x.values]), axis=1)"
   ]
  },
  {
   "cell_type": "code",
   "execution_count": 31,
   "id": "13a4b4c7",
   "metadata": {},
   "outputs": [],
   "source": [
    "df6.to_csv('df_fer_top.csv')"
   ]
  },
  {
   "cell_type": "code",
   "execution_count": 32,
   "id": "52b29c06",
   "metadata": {},
   "outputs": [
    {
     "data": {
      "text/plain": [
       "(35887, 9)"
      ]
     },
     "execution_count": 32,
     "metadata": {},
     "output_type": "execute_result"
    }
   ],
   "source": [
    "df6.shape"
   ]
  },
  {
   "cell_type": "code",
   "execution_count": 33,
   "id": "3a39e6bd",
   "metadata": {},
   "outputs": [
    {
     "data": {
      "text/html": [
       "<div>\n",
       "<style scoped>\n",
       "    .dataframe tbody tr th:only-of-type {\n",
       "        vertical-align: middle;\n",
       "    }\n",
       "\n",
       "    .dataframe tbody tr th {\n",
       "        vertical-align: top;\n",
       "    }\n",
       "\n",
       "    .dataframe thead th {\n",
       "        text-align: right;\n",
       "    }\n",
       "</style>\n",
       "<table border=\"1\" class=\"dataframe\">\n",
       "  <thead>\n",
       "    <tr style=\"text-align: right;\">\n",
       "      <th></th>\n",
       "      <th>pixels</th>\n",
       "      <th>emotion_names</th>\n",
       "      <th>pixar1</th>\n",
       "      <th>pixar2</th>\n",
       "      <th>emo_arr1</th>\n",
       "      <th>emo_arr</th>\n",
       "      <th>emo_happy</th>\n",
       "      <th>emo_unhappy</th>\n",
       "      <th>dums</th>\n",
       "    </tr>\n",
       "  </thead>\n",
       "  <tbody>\n",
       "    <tr>\n",
       "      <th>0</th>\n",
       "      <td>70 80 82 72 58 58 60 63 54 58 60 48 89 115 121...</td>\n",
       "      <td>Angry</td>\n",
       "      <td>[70.0, 80.0, 82.0, 72.0, 58.0, 58.0, 60.0, 63....</td>\n",
       "      <td>[[70.0, 80.0, 82.0, 72.0, 58.0, 58.0, 60.0, 63...</td>\n",
       "      <td>[[70.0, 80.0, 82.0, 72.0, 58.0, 58.0, 60.0, 63...</td>\n",
       "      <td>[[[70.0], [80.0], [82.0], [72.0], [58.0], [58....</td>\n",
       "      <td>0</td>\n",
       "      <td>1</td>\n",
       "      <td>[0, 1]</td>\n",
       "    </tr>\n",
       "    <tr>\n",
       "      <th>1</th>\n",
       "      <td>151 150 147 155 148 133 111 140 170 174 182 15...</td>\n",
       "      <td>Angry</td>\n",
       "      <td>[151.0, 150.0, 147.0, 155.0, 148.0, 133.0, 111...</td>\n",
       "      <td>[[151.0, 150.0, 147.0, 155.0, 148.0, 133.0, 11...</td>\n",
       "      <td>[[151.0, 150.0, 147.0, 155.0, 148.0, 133.0, 11...</td>\n",
       "      <td>[[[151.0], [150.0], [147.0], [155.0], [148.0],...</td>\n",
       "      <td>0</td>\n",
       "      <td>1</td>\n",
       "      <td>[0, 1]</td>\n",
       "    </tr>\n",
       "    <tr>\n",
       "      <th>2</th>\n",
       "      <td>231 212 156 164 174 138 161 173 182 200 106 38...</td>\n",
       "      <td>Fear</td>\n",
       "      <td>[231.0, 212.0, 156.0, 164.0, 174.0, 138.0, 161...</td>\n",
       "      <td>[[231.0, 212.0, 156.0, 164.0, 174.0, 138.0, 16...</td>\n",
       "      <td>[[231.0, 212.0, 156.0, 164.0, 174.0, 138.0, 16...</td>\n",
       "      <td>[[[231.0], [212.0], [156.0], [164.0], [174.0],...</td>\n",
       "      <td>0</td>\n",
       "      <td>1</td>\n",
       "      <td>[0, 1]</td>\n",
       "    </tr>\n",
       "    <tr>\n",
       "      <th>3</th>\n",
       "      <td>24 32 36 30 32 23 19 20 30 41 21 22 32 34 21 1...</td>\n",
       "      <td>Sad</td>\n",
       "      <td>[24.0, 32.0, 36.0, 30.0, 32.0, 23.0, 19.0, 20....</td>\n",
       "      <td>[[24.0, 32.0, 36.0, 30.0, 32.0, 23.0, 19.0, 20...</td>\n",
       "      <td>[[24.0, 32.0, 36.0, 30.0, 32.0, 23.0, 19.0, 20...</td>\n",
       "      <td>[[[24.0], [32.0], [36.0], [30.0], [32.0], [23....</td>\n",
       "      <td>0</td>\n",
       "      <td>1</td>\n",
       "      <td>[0, 1]</td>\n",
       "    </tr>\n",
       "    <tr>\n",
       "      <th>4</th>\n",
       "      <td>4 0 0 0 0 0 0 0 0 0 0 0 3 15 23 28 48 50 58 84...</td>\n",
       "      <td>Neutral</td>\n",
       "      <td>[4.0, 0.0, 0.0, 0.0, 0.0, 0.0, 0.0, 0.0, 0.0, ...</td>\n",
       "      <td>[[4.0, 0.0, 0.0, 0.0, 0.0, 0.0, 0.0, 0.0, 0.0,...</td>\n",
       "      <td>[[4.0, 0.0, 0.0, 0.0, 0.0, 0.0, 0.0, 0.0, 0.0,...</td>\n",
       "      <td>[[[4.0], [0.0], [0.0], [0.0], [0.0], [0.0], [0...</td>\n",
       "      <td>0</td>\n",
       "      <td>1</td>\n",
       "      <td>[0, 1]</td>\n",
       "    </tr>\n",
       "  </tbody>\n",
       "</table>\n",
       "</div>"
      ],
      "text/plain": [
       "                                              pixels emotion_names  \\\n",
       "0  70 80 82 72 58 58 60 63 54 58 60 48 89 115 121...         Angry   \n",
       "1  151 150 147 155 148 133 111 140 170 174 182 15...         Angry   \n",
       "2  231 212 156 164 174 138 161 173 182 200 106 38...          Fear   \n",
       "3  24 32 36 30 32 23 19 20 30 41 21 22 32 34 21 1...           Sad   \n",
       "4  4 0 0 0 0 0 0 0 0 0 0 0 3 15 23 28 48 50 58 84...       Neutral   \n",
       "\n",
       "                                              pixar1  \\\n",
       "0  [70.0, 80.0, 82.0, 72.0, 58.0, 58.0, 60.0, 63....   \n",
       "1  [151.0, 150.0, 147.0, 155.0, 148.0, 133.0, 111...   \n",
       "2  [231.0, 212.0, 156.0, 164.0, 174.0, 138.0, 161...   \n",
       "3  [24.0, 32.0, 36.0, 30.0, 32.0, 23.0, 19.0, 20....   \n",
       "4  [4.0, 0.0, 0.0, 0.0, 0.0, 0.0, 0.0, 0.0, 0.0, ...   \n",
       "\n",
       "                                              pixar2  \\\n",
       "0  [[70.0, 80.0, 82.0, 72.0, 58.0, 58.0, 60.0, 63...   \n",
       "1  [[151.0, 150.0, 147.0, 155.0, 148.0, 133.0, 11...   \n",
       "2  [[231.0, 212.0, 156.0, 164.0, 174.0, 138.0, 16...   \n",
       "3  [[24.0, 32.0, 36.0, 30.0, 32.0, 23.0, 19.0, 20...   \n",
       "4  [[4.0, 0.0, 0.0, 0.0, 0.0, 0.0, 0.0, 0.0, 0.0,...   \n",
       "\n",
       "                                            emo_arr1  \\\n",
       "0  [[70.0, 80.0, 82.0, 72.0, 58.0, 58.0, 60.0, 63...   \n",
       "1  [[151.0, 150.0, 147.0, 155.0, 148.0, 133.0, 11...   \n",
       "2  [[231.0, 212.0, 156.0, 164.0, 174.0, 138.0, 16...   \n",
       "3  [[24.0, 32.0, 36.0, 30.0, 32.0, 23.0, 19.0, 20...   \n",
       "4  [[4.0, 0.0, 0.0, 0.0, 0.0, 0.0, 0.0, 0.0, 0.0,...   \n",
       "\n",
       "                                             emo_arr  emo_happy  emo_unhappy  \\\n",
       "0  [[[70.0], [80.0], [82.0], [72.0], [58.0], [58....          0            1   \n",
       "1  [[[151.0], [150.0], [147.0], [155.0], [148.0],...          0            1   \n",
       "2  [[[231.0], [212.0], [156.0], [164.0], [174.0],...          0            1   \n",
       "3  [[[24.0], [32.0], [36.0], [30.0], [32.0], [23....          0            1   \n",
       "4  [[[4.0], [0.0], [0.0], [0.0], [0.0], [0.0], [0...          0            1   \n",
       "\n",
       "     dums  \n",
       "0  [0, 1]  \n",
       "1  [0, 1]  \n",
       "2  [0, 1]  \n",
       "3  [0, 1]  \n",
       "4  [0, 1]  "
      ]
     },
     "execution_count": 33,
     "metadata": {},
     "output_type": "execute_result"
    }
   ],
   "source": [
    "df6.head()"
   ]
  },
  {
   "cell_type": "code",
   "execution_count": 34,
   "id": "10fd06f0",
   "metadata": {},
   "outputs": [
    {
     "name": "stdout",
     "output_type": "stream",
     "text": [
      "<class 'pandas.core.frame.DataFrame'>\n",
      "RangeIndex: 35887 entries, 0 to 35886\n",
      "Data columns (total 9 columns):\n",
      " #   Column         Non-Null Count  Dtype \n",
      "---  ------         --------------  ----- \n",
      " 0   pixels         35887 non-null  object\n",
      " 1   emotion_names  35887 non-null  object\n",
      " 2   pixar1         35887 non-null  object\n",
      " 3   pixar2         35887 non-null  object\n",
      " 4   emo_arr1       35887 non-null  object\n",
      " 5   emo_arr        35887 non-null  object\n",
      " 6   emo_happy      35887 non-null  uint8 \n",
      " 7   emo_unhappy    35887 non-null  uint8 \n",
      " 8   dums           35887 non-null  object\n",
      "dtypes: object(7), uint8(2)\n",
      "memory usage: 2.0+ MB\n"
     ]
    }
   ],
   "source": [
    "df6.info()"
   ]
  },
  {
   "cell_type": "code",
   "execution_count": 35,
   "id": "dc314667",
   "metadata": {},
   "outputs": [
    {
     "data": {
      "text/plain": [
       "list"
      ]
     },
     "execution_count": 35,
     "metadata": {},
     "output_type": "execute_result"
    }
   ],
   "source": [
    "type(df6.pixar1[0])"
   ]
  },
  {
   "cell_type": "code",
   "execution_count": 36,
   "id": "570f5000",
   "metadata": {},
   "outputs": [
    {
     "data": {
      "text/plain": [
       "(48, 48, 1)"
      ]
     },
     "execution_count": 36,
     "metadata": {},
     "output_type": "execute_result"
    }
   ],
   "source": [
    "df6.emo_arr[0].shape"
   ]
  },
  {
   "cell_type": "markdown",
   "id": "d0fd5629",
   "metadata": {},
   "source": [
    "# EL wueno es emo_arr"
   ]
  },
  {
   "cell_type": "code",
   "execution_count": 37,
   "id": "e91b59c5",
   "metadata": {},
   "outputs": [],
   "source": [
    "df6 = df6.sample(15000)"
   ]
  },
  {
   "cell_type": "code",
   "execution_count": 38,
   "id": "3aae1df3",
   "metadata": {},
   "outputs": [
    {
     "data": {
      "text/plain": [
       "((15000, 48, 48, 1), (15000, 2))"
      ]
     },
     "execution_count": 38,
     "metadata": {},
     "output_type": "execute_result"
    }
   ],
   "source": [
    "X = (np.stack(df6['emo_arr'])) / 255.0\n",
    "y = np.stack(df6.dums)\n",
    "X.shape, y.shape"
   ]
  },
  {
   "cell_type": "code",
   "execution_count": 39,
   "id": "350ff199",
   "metadata": {},
   "outputs": [],
   "source": [
    "X_train, X_testval, y_train, y_testval = train_test_split(X,y,test_size=0.2)"
   ]
  },
  {
   "cell_type": "code",
   "execution_count": 40,
   "id": "474d2372",
   "metadata": {},
   "outputs": [],
   "source": [
    "X_test, X_val, y_test, y_val = train_test_split(X_testval,y_testval,test_size=0.5)"
   ]
  },
  {
   "cell_type": "code",
   "execution_count": null,
   "id": "8f537d46",
   "metadata": {},
   "outputs": [],
   "source": []
  },
  {
   "cell_type": "code",
   "execution_count": null,
   "id": "8c476421",
   "metadata": {},
   "outputs": [],
   "source": [
    "X_train.shape"
   ]
  },
  {
   "cell_type": "code",
   "execution_count": null,
   "id": "47c6f15b",
   "metadata": {},
   "outputs": [],
   "source": [
    "y_train.shape"
   ]
  },
  {
   "cell_type": "code",
   "execution_count": null,
   "id": "8cc386ee",
   "metadata": {},
   "outputs": [],
   "source": [
    "X_test.shape"
   ]
  },
  {
   "cell_type": "code",
   "execution_count": null,
   "id": "f90cc894",
   "metadata": {},
   "outputs": [],
   "source": [
    "y_test.shape"
   ]
  },
  {
   "cell_type": "code",
   "execution_count": null,
   "id": "957c8896",
   "metadata": {},
   "outputs": [],
   "source": [
    "X_val.shape"
   ]
  },
  {
   "cell_type": "code",
   "execution_count": null,
   "id": "867fdb6b",
   "metadata": {},
   "outputs": [],
   "source": [
    "y_val.shape"
   ]
  },
  {
   "cell_type": "code",
   "execution_count": null,
   "id": "fa0feb32",
   "metadata": {},
   "outputs": [],
   "source": [
    "X_test.shape, X_val.shape, y_test.shape, y_val.shape "
   ]
  },
  {
   "cell_type": "code",
   "execution_count": null,
   "id": "04cbb472",
   "metadata": {},
   "outputs": [],
   "source": []
  },
  {
   "cell_type": "code",
   "execution_count": null,
   "id": "36a5fe0a",
   "metadata": {},
   "outputs": [],
   "source": []
  },
  {
   "cell_type": "code",
   "execution_count": 52,
   "id": "57aaf90d",
   "metadata": {},
   "outputs": [],
   "source": [
    "def transfImag(path, new_path):\n",
    "    \n",
    "    # ROCKET\n",
    "    \"\"\"\n",
    "    recibe carpeta, en cada foto de esa carpeta:\n",
    "    lectura\n",
    "    to gray\n",
    "    facecascade\n",
    "    por xywh en cada cara:\n",
    "        array\n",
    "        reshape array a 2d\n",
    "        stack array 3d\n",
    "        normalizar\n",
    "        expand 4d\n",
    "    devuelve array x cada foto para pasarselo al modelo\n",
    "    \"\"\"\n",
    "    counter_imgs = 0\n",
    "    counter_faces = 0\n",
    "    \n",
    "    X_ = pd.Series([], dtype='float64')\n",
    "    \n",
    "    for file in sorted(path.iterdir()):\n",
    "        \n",
    "        counter_imgs += 1\n",
    "\n",
    "        input_img1 = cv2.imread(str(file))\n",
    "        input_img2 = cv2.cvtColor(input_img1, cv2.COLOR_BGR2GRAY)\n",
    "        faces = face_cascade.detectMultiScale(input_img2, 1.25, 6)\n",
    "        \n",
    "        for (x,y,w,h) in faces:\n",
    "            \n",
    "            counter_faces += 1\n",
    "            img_data1 = input_img2 [y:y+h,x:x+w]\n",
    "            img_data2 = cv2.resize (img_data1,(48,48))\n",
    "\n",
    "            img_data3 = np.stack(img_data2) \n",
    "            img_data4 = img_data2 / 255.0\n",
    "            img_data5 = img_data3 / 255.0\n",
    "            \n",
    "            img_data6 = np.expand_dims(img_data5,axis=0).reshape(np.expand_dims(img_data5,axis=0).shape[0], 48, 48, 1)\n",
    "            \n",
    "            print(img_data6.shape)\n",
    "            print(img_data6)\n",
    "            \n",
    "            img_datashow = img_data3*255\n",
    "            img_show = Image.fromarray(img_datashow)\n",
    "            file_to_save = file.name.replace(\".\",f\"_face{counter_faces}.\")\n",
    "            img_show.save(str(new_path/file_to_save))\n",
    "            \n",
    "            counter_faces = 0\n",
    "            \n",
    "            arr_for_model = img_data6\n",
    "            \n",
    "            \n",
    "            return arr_for_model\n",
    "    \n",
    "    print('YAAA!')    \n",
    "    return counter_imgs\n",
    "        \n",
    "    "
   ]
  },
  {
   "cell_type": "code",
   "execution_count": null,
   "id": "2bbea977",
   "metadata": {},
   "outputs": [],
   "source": []
  },
  {
   "cell_type": "code",
   "execution_count": null,
   "id": "42fc64fa",
   "metadata": {},
   "outputs": [],
   "source": [
    "dfplease.head()"
   ]
  },
  {
   "cell_type": "code",
   "execution_count": null,
   "id": "6517bae1",
   "metadata": {},
   "outputs": [],
   "source": []
  },
  {
   "cell_type": "code",
   "execution_count": null,
   "id": "7d0276af",
   "metadata": {},
   "outputs": [],
   "source": []
  },
  {
   "cell_type": "code",
   "execution_count": 41,
   "id": "5307b5d3",
   "metadata": {},
   "outputs": [],
   "source": [
    "def base_model():\n",
    "    model = Sequential()\n",
    "    input_shape = (48,48,1)\n",
    "    #1st convolution layer\n",
    "    model.add(Conv2D(64, (5, 5), input_shape=input_shape,activation='relu', padding='same'))\n",
    "    model.add(Conv2D(64, (5, 5), activation='relu', padding='same'))\n",
    "    model.add(BatchNormalization())\n",
    "    model.add(MaxPooling2D(pool_size=(2, 2)))\n",
    "    model.add(Dropout(0.5))\n",
    "    \n",
    "    #2nd convolution layer\n",
    "    model.add(Conv2D(128, (5, 5),activation='relu',padding='same'))\n",
    "    model.add(Conv2D(128, (5, 5),activation='relu',padding='same'))\n",
    "    model.add(BatchNormalization())\n",
    "    model.add(MaxPooling2D(pool_size=(2, 2)))\n",
    "    model.add(Dropout(0.5))\n",
    "\n",
    "    #3rd convolution layer\n",
    "    model.add(Conv2D(256, (3, 3),activation='relu',padding='same'))\n",
    "    model.add(Conv2D(256, (3, 3),activation='relu',padding='same'))\n",
    "    model.add(BatchNormalization())\n",
    "    model.add(MaxPooling2D(pool_size=(2, 2)))\n",
    "    model.add(Dropout(0.5))\n",
    "\n",
    "    model.add(Flatten())\n",
    "    model.add(Dense(128))\n",
    "    model.add(BatchNormalization())\n",
    "    model.add(Activation('relu'))\n",
    "    model.add(Dropout(0.2))\n",
    "    model.add(Dense(2))\n",
    "    model.add(Activation('softmax'))\n",
    "\n",
    "    my_optimiser = tf.keras.optimizers.Adam(\n",
    "    learning_rate = 0.001, beta_1=0.9, beta_2=0.999, \n",
    "        epsilon=1e-07, amsgrad=False, name='Adam')\n",
    "    \n",
    "    model.compile(loss='categorical_crossentropy',\n",
    "                  metrics=['accuracy'],\n",
    "                  optimizer=my_optimiser)\n",
    "    \n",
    "    return model"
   ]
  },
  {
   "cell_type": "code",
   "execution_count": null,
   "id": "693777ea",
   "metadata": {},
   "outputs": [],
   "source": []
  },
  {
   "cell_type": "code",
   "execution_count": 42,
   "id": "361cd185",
   "metadata": {
    "scrolled": false
   },
   "outputs": [
    {
     "name": "stdout",
     "output_type": "stream",
     "text": [
      "Epoch 1/15\n",
      "240/240 [==============================] - 546s 2s/step - loss: 0.5788 - accuracy: 0.7332 - val_loss: 0.6027 - val_accuracy: 0.6640\n",
      "Epoch 2/15\n",
      "240/240 [==============================] - 539s 2s/step - loss: 0.4885 - accuracy: 0.7723 - val_loss: 0.4907 - val_accuracy: 0.7807\n",
      "Epoch 3/15\n",
      "240/240 [==============================] - 484s 2s/step - loss: 0.4309 - accuracy: 0.8087 - val_loss: 0.4748 - val_accuracy: 0.7973\n",
      "Epoch 4/15\n",
      "240/240 [==============================] - 470s 2s/step - loss: 0.3783 - accuracy: 0.8374 - val_loss: 0.4014 - val_accuracy: 0.8373\n",
      "Epoch 5/15\n",
      "240/240 [==============================] - 543s 2s/step - loss: 0.3434 - accuracy: 0.8583 - val_loss: 0.3313 - val_accuracy: 0.8580\n",
      "Epoch 6/15\n",
      "240/240 [==============================] - 562s 2s/step - loss: 0.3141 - accuracy: 0.8687 - val_loss: 0.3356 - val_accuracy: 0.8587\n",
      "Epoch 7/15\n",
      "240/240 [==============================] - 718s 3s/step - loss: 0.2931 - accuracy: 0.8801 - val_loss: 0.3149 - val_accuracy: 0.8687\n",
      "Epoch 8/15\n",
      "240/240 [==============================] - 476s 2s/step - loss: 0.2817 - accuracy: 0.8854 - val_loss: 0.2974 - val_accuracy: 0.8673\n",
      "Epoch 9/15\n",
      "240/240 [==============================] - 1056s 4s/step - loss: 0.2602 - accuracy: 0.8968 - val_loss: 0.2831 - val_accuracy: 0.8780\n",
      "Epoch 10/15\n",
      "240/240 [==============================] - 473s 2s/step - loss: 0.2506 - accuracy: 0.8982 - val_loss: 0.3223 - val_accuracy: 0.8627\n",
      "Epoch 11/15\n",
      "240/240 [==============================] - 459s 2s/step - loss: 0.2436 - accuracy: 0.9029 - val_loss: 0.3311 - val_accuracy: 0.8787\n",
      "Epoch 12/15\n",
      "240/240 [==============================] - 579s 2s/step - loss: 0.2204 - accuracy: 0.9090 - val_loss: 0.3247 - val_accuracy: 0.8667\n",
      "Epoch 13/15\n",
      "240/240 [==============================] - 533s 2s/step - loss: 0.2158 - accuracy: 0.9137 - val_loss: 0.2847 - val_accuracy: 0.8793\n",
      "Epoch 14/15\n",
      "240/240 [==============================] - 473s 2s/step - loss: 0.2021 - accuracy: 0.9192 - val_loss: 0.3117 - val_accuracy: 0.8807\n",
      "Epoch 15/15\n",
      "240/240 [==============================] - 506s 2s/step - loss: 0.1933 - accuracy: 0.9232 - val_loss: 0.2794 - val_accuracy: 0.8913\n",
      "Model: \"sequential\"\n",
      "_________________________________________________________________\n",
      "Layer (type)                 Output Shape              Param #   \n",
      "=================================================================\n",
      "conv2d (Conv2D)              (None, 48, 48, 64)        1664      \n",
      "_________________________________________________________________\n",
      "conv2d_1 (Conv2D)            (None, 48, 48, 64)        102464    \n",
      "_________________________________________________________________\n",
      "batch_normalization (BatchNo (None, 48, 48, 64)        256       \n",
      "_________________________________________________________________\n",
      "max_pooling2d (MaxPooling2D) (None, 24, 24, 64)        0         \n",
      "_________________________________________________________________\n",
      "dropout (Dropout)            (None, 24, 24, 64)        0         \n",
      "_________________________________________________________________\n",
      "conv2d_2 (Conv2D)            (None, 24, 24, 128)       204928    \n",
      "_________________________________________________________________\n",
      "conv2d_3 (Conv2D)            (None, 24, 24, 128)       409728    \n",
      "_________________________________________________________________\n",
      "batch_normalization_1 (Batch (None, 24, 24, 128)       512       \n",
      "_________________________________________________________________\n",
      "max_pooling2d_1 (MaxPooling2 (None, 12, 12, 128)       0         \n",
      "_________________________________________________________________\n",
      "dropout_1 (Dropout)          (None, 12, 12, 128)       0         \n",
      "_________________________________________________________________\n",
      "conv2d_4 (Conv2D)            (None, 12, 12, 256)       295168    \n",
      "_________________________________________________________________\n",
      "conv2d_5 (Conv2D)            (None, 12, 12, 256)       590080    \n",
      "_________________________________________________________________\n",
      "batch_normalization_2 (Batch (None, 12, 12, 256)       1024      \n",
      "_________________________________________________________________\n",
      "max_pooling2d_2 (MaxPooling2 (None, 6, 6, 256)         0         \n",
      "_________________________________________________________________\n",
      "dropout_2 (Dropout)          (None, 6, 6, 256)         0         \n",
      "_________________________________________________________________\n",
      "flatten (Flatten)            (None, 9216)              0         \n",
      "_________________________________________________________________\n",
      "dense (Dense)                (None, 128)               1179776   \n",
      "_________________________________________________________________\n",
      "batch_normalization_3 (Batch (None, 128)               512       \n",
      "_________________________________________________________________\n",
      "activation (Activation)      (None, 128)               0         \n",
      "_________________________________________________________________\n",
      "dropout_3 (Dropout)          (None, 128)               0         \n",
      "_________________________________________________________________\n",
      "dense_1 (Dense)              (None, 2)                 258       \n",
      "_________________________________________________________________\n",
      "activation_1 (Activation)    (None, 2)                 0         \n",
      "=================================================================\n",
      "Total params: 2,786,370\n",
      "Trainable params: 2,785,218\n",
      "Non-trainable params: 1,152\n",
      "_________________________________________________________________\n"
     ]
    }
   ],
   "source": [
    "model_1 = base_model()\n",
    "\n",
    "model_1.fit(X_train, y_train, \n",
    "            validation_data=(X_val, y_val), \n",
    "            epochs=15,\n",
    "            verbose=1, \n",
    "            batch_size=50)\n",
    "\n",
    "model_1.summary()"
   ]
  },
  {
   "cell_type": "code",
   "execution_count": 47,
   "id": "657e70d8",
   "metadata": {},
   "outputs": [],
   "source": [
    "model_1.save(\"model_ana.hdf5\")"
   ]
  },
  {
   "cell_type": "code",
   "execution_count": 49,
   "id": "bf626f7f",
   "metadata": {},
   "outputs": [],
   "source": [
    "import json\n",
    "model_json = model_1.to_json()\n",
    "name_1 = \"model_ana.hdf5\"\n",
    "model_1.save_weights(name_1)\n",
    "with open(name_1+'.json', \"w\") as json_file:\n",
    "    json.dump(model_json, json_file)\n",
    "\n",
    "model_1.load_weights(\"model_ana.hdf5\")"
   ]
  },
  {
   "cell_type": "code",
   "execution_count": 50,
   "id": "cc2fe6d4",
   "metadata": {},
   "outputs": [
    {
     "name": "stdout",
     "output_type": "stream",
     "text": [
      "1_fer2013.ipynb          df_fer_a.csv             model_ana.hdf5\r\n",
      "2_model_training.ipynb   df_fer_ok.csv            model_ana.hdf5.json\r\n",
      "Fer.csv                  df_fer_top.csv\r\n",
      "Project Validation.ipynb foto.jpeg\r\n"
     ]
    }
   ],
   "source": [
    "!ls"
   ]
  },
  {
   "cell_type": "code",
   "execution_count": 2,
   "id": "118e5857",
   "metadata": {},
   "outputs": [],
   "source": [
    "\n",
    "def transfImag2(path):\n",
    "    print ('transforming image from {}'.format(path))\n",
    "\n",
    "    input_img=cv2.imread(path)\n",
    "    input_img=cv2.cvtColor(input_img, cv2.COLOR_BGR2GRAY)\n",
    "    faces = face_cascade.detectMultiScale(input_img, 1.25, 6)\n",
    "    x,y,w,h = faces[0]\n",
    "    img_data= input_img[y:y+h,x:x+w]\n",
    "    img_data=cv2.resize(img_data,(48,48))\n",
    "    \n",
    "    img_data = np.stack(img_data)\n",
    "    img_data = img_data / 255.0\n",
    "    \n",
    "    return img_data"
   ]
  },
  {
   "cell_type": "code",
   "execution_count": 3,
   "id": "0132a1f2",
   "metadata": {},
   "outputs": [
    {
     "name": "stdout",
     "output_type": "stream",
     "text": [
      "transforming image from foto.jpg\n"
     ]
    },
    {
     "ename": "NameError",
     "evalue": "name 'cv2' is not defined",
     "output_type": "error",
     "traceback": [
      "\u001b[0;31m---------------------------------------------------------------------------\u001b[0m",
      "\u001b[0;31mNameError\u001b[0m                                 Traceback (most recent call last)",
      "\u001b[0;32m<ipython-input-3-327f9dfc4804>\u001b[0m in \u001b[0;36m<module>\u001b[0;34m\u001b[0m\n\u001b[0;32m----> 1\u001b[0;31m \u001b[0mPIC\u001b[0m \u001b[0;34m=\u001b[0m \u001b[0mtransfImag2\u001b[0m\u001b[0;34m(\u001b[0m\u001b[0;34m'foto.jpg'\u001b[0m\u001b[0;34m)\u001b[0m \u001b[0;31m# transform pic\u001b[0m\u001b[0;34m\u001b[0m\u001b[0;34m\u001b[0m\u001b[0m\n\u001b[0m\u001b[1;32m      2\u001b[0m \u001b[0minput_img\u001b[0m\u001b[0;34m=\u001b[0m\u001b[0mcv2\u001b[0m\u001b[0;34m.\u001b[0m\u001b[0mimread\u001b[0m\u001b[0;34m(\u001b[0m\u001b[0;34m'foto.jpg'\u001b[0m\u001b[0;34m)\u001b[0m \u001b[0;31m# get the array of the original pic\u001b[0m\u001b[0;34m\u001b[0m\u001b[0;34m\u001b[0m\u001b[0m\n\u001b[1;32m      3\u001b[0m \u001b[0;34m\u001b[0m\u001b[0m\n\u001b[1;32m      4\u001b[0m \u001b[0mplt\u001b[0m\u001b[0;34m.\u001b[0m\u001b[0msubplot\u001b[0m\u001b[0;34m(\u001b[0m\u001b[0;36m121\u001b[0m\u001b[0;34m)\u001b[0m\u001b[0;34m\u001b[0m\u001b[0;34m\u001b[0m\u001b[0m\n\u001b[1;32m      5\u001b[0m \u001b[0mplt\u001b[0m\u001b[0;34m.\u001b[0m\u001b[0mimshow\u001b[0m\u001b[0;34m(\u001b[0m\u001b[0minput_img\u001b[0m\u001b[0;34m)\u001b[0m \u001b[0;31m# original pic\u001b[0m\u001b[0;34m\u001b[0m\u001b[0;34m\u001b[0m\u001b[0m\n",
      "\u001b[0;32m<ipython-input-2-b4a8f159e2e3>\u001b[0m in \u001b[0;36mtransfImag2\u001b[0;34m(path)\u001b[0m\n\u001b[1;32m      2\u001b[0m     \u001b[0mprint\u001b[0m \u001b[0;34m(\u001b[0m\u001b[0;34m'transforming image from {}'\u001b[0m\u001b[0;34m.\u001b[0m\u001b[0mformat\u001b[0m\u001b[0;34m(\u001b[0m\u001b[0mpath\u001b[0m\u001b[0;34m)\u001b[0m\u001b[0;34m)\u001b[0m\u001b[0;34m\u001b[0m\u001b[0;34m\u001b[0m\u001b[0m\n\u001b[1;32m      3\u001b[0m \u001b[0;34m\u001b[0m\u001b[0m\n\u001b[0;32m----> 4\u001b[0;31m     \u001b[0minput_img\u001b[0m\u001b[0;34m=\u001b[0m\u001b[0mcv2\u001b[0m\u001b[0;34m.\u001b[0m\u001b[0mimread\u001b[0m\u001b[0;34m(\u001b[0m\u001b[0mpath\u001b[0m\u001b[0;34m)\u001b[0m\u001b[0;34m\u001b[0m\u001b[0;34m\u001b[0m\u001b[0m\n\u001b[0m\u001b[1;32m      5\u001b[0m     \u001b[0minput_img\u001b[0m\u001b[0;34m=\u001b[0m\u001b[0mcv2\u001b[0m\u001b[0;34m.\u001b[0m\u001b[0mcvtColor\u001b[0m\u001b[0;34m(\u001b[0m\u001b[0minput_img\u001b[0m\u001b[0;34m,\u001b[0m \u001b[0mcv2\u001b[0m\u001b[0;34m.\u001b[0m\u001b[0mCOLOR_BGR2GRAY\u001b[0m\u001b[0;34m)\u001b[0m\u001b[0;34m\u001b[0m\u001b[0;34m\u001b[0m\u001b[0m\n\u001b[1;32m      6\u001b[0m     \u001b[0mfaces\u001b[0m \u001b[0;34m=\u001b[0m \u001b[0mface_cascade\u001b[0m\u001b[0;34m.\u001b[0m\u001b[0mdetectMultiScale\u001b[0m\u001b[0;34m(\u001b[0m\u001b[0minput_img\u001b[0m\u001b[0;34m,\u001b[0m \u001b[0;36m1.25\u001b[0m\u001b[0;34m,\u001b[0m \u001b[0;36m6\u001b[0m\u001b[0;34m)\u001b[0m\u001b[0;34m\u001b[0m\u001b[0;34m\u001b[0m\u001b[0m\n",
      "\u001b[0;31mNameError\u001b[0m: name 'cv2' is not defined"
     ]
    }
   ],
   "source": [
    "PIC = transfImag2('foto.jpg') # transform pic\n",
    "input_img=cv2.imread('foto.jpg') # get the array of the original pic\n",
    "\n",
    "plt.subplot(121)\n",
    "plt.imshow(input_img) # original pic\n",
    "print(input_img.shape)\n",
    "plt.subplot(122)\n",
    "plt.imshow(Image.fromarray(PIC.squeeze()*255)) # transformed pic\n",
    "\n",
    "PIC = np.expand_dims(PIC,axis=0).reshape(np.expand_dims(PIC,axis=0).shape[0], 48, 48, 1)\n",
    "print(PIC.shape)\n",
    "pred2 = model_1.predict(PIC)[0]\n",
    "print(\"Probs -> happy:{0:.5f} unhappy:{1:.5f}\".format(pred2[0],pred2[1]))\n",
    "\n",
    "happy = pred2[0]\n",
    "unhappy = pred2[1]"
   ]
  },
  {
   "cell_type": "code",
   "execution_count": 60,
   "id": "36f64bd6",
   "metadata": {},
   "outputs": [
    {
     "data": {
      "text/plain": [
       "0.98666"
      ]
     },
     "execution_count": 60,
     "metadata": {},
     "output_type": "execute_result"
    }
   ],
   "source": [
    "happy"
   ]
  },
  {
   "cell_type": "code",
   "execution_count": null,
   "id": "84a565e0",
   "metadata": {},
   "outputs": [],
   "source": [
    "if happy > 0.8:\n",
    "    st.write(\"Llego mama\")\n",
    "    image = blavblabla\n",
    "    st.image(image)"
   ]
  },
  {
   "cell_type": "code",
   "execution_count": null,
   "id": "2725a6a9",
   "metadata": {},
   "outputs": [],
   "source": []
  },
  {
   "cell_type": "code",
   "execution_count": null,
   "id": "13f8ef48",
   "metadata": {},
   "outputs": [],
   "source": []
  },
  {
   "cell_type": "code",
   "execution_count": null,
   "id": "48561131",
   "metadata": {},
   "outputs": [],
   "source": []
  },
  {
   "cell_type": "code",
   "execution_count": null,
   "id": "18fd4286",
   "metadata": {},
   "outputs": [],
   "source": []
  },
  {
   "cell_type": "code",
   "execution_count": null,
   "id": "c0e61bd9",
   "metadata": {},
   "outputs": [],
   "source": [
    "# HAAR CASCADE CLASSIFIER\n",
    "def detect_face_eyes_smile(pth,new_pth):\n",
    "    \"\"\"\n",
    "    Extracts all .jpg files from local path, \n",
    "    calls on haar cascade classifiers (frontalface, eyes and smile) \n",
    "    and draws detection rectangles on each .jpg \n",
    "    \n",
    "    Takes: local path of directory with .jpg images\n",
    "    \n",
    "    Returns: individual windows for .jpg files with detection rectangles for face, eyes and smile\n",
    "    \"\"\"\n",
    "\n",
    "    counter_imgs = 0\n",
    "    counter_faces = 0\n",
    "    counter_smiles = 0\n",
    "    counter_eyes = 0\n",
    "    face_cascade = cv2.CascadeClassifier('../src/haarcascade_frontalface_default.xml')\n",
    "    eye_cascade = cv2.CascadeClassifier('../src/haarcascade_eye.xml')\n",
    "    smile_cascade = cv2.CascadeClassifier('../src/haarcascade_smile.xml')\n",
    "    \n",
    "    for file in sorted(pth.iterdir()):\n",
    "        if file.suffix != '.jpg':\n",
    "            pass\n",
    "        else:\n",
    "            counter_imgs += 1\n",
    "            print(file.name)\n",
    "            \n",
    "            img = cv2.imread(str(file))\n",
    "            img_gray = cv2.cvtColor(img, cv2.COLOR_BGR2GRAY)\n",
    "            \n",
    "            #plt.imshow(img)\n",
    "\n",
    "            # FRONTAL FACE \n",
    "            \n",
    "            faces = face_cascade.detectMultiScale(\n",
    "                img_gray, \n",
    "                scaleFactor=1.06,                \n",
    "                minNeighbors=7,\n",
    "                minSize=(30, 30), \n",
    "                flags=cv2.CASCADE_SCALE_IMAGE)\n",
    "            if faces is None:\n",
    "                print(\"No Face Found\")\n",
    "\n",
    "            for (fx,fy,fw,fh) in faces:\n",
    "                \n",
    "                counter_faces += 1\n",
    "                roi_gray = img_gray [fy:fy+fh, fx:fx+fw] # region of interest for detection\n",
    "                roi_gray2 = cv2.resize (roi_gray, (48,48))\n",
    "                roi_gray3 = np.stack(roi_gray2)\n",
    "                roi_gray4 = roi_gray2 / 255\n",
    "                \n",
    "                roi_color = img[fy:fy+fh, fx:fx+fw] # region of interest for mapping rectangle\n",
    "                roi_color2 = cv2.resize (roi_color, (48,48))\n",
    "                roi_color3 = np.stack(roi_color2)\n",
    "                roi_color4 = roi_color2 / 255\n",
    "                \n",
    "                cv2.rectangle(\n",
    "                    img,\n",
    "                    (fx,fy),\n",
    "                    (fx+fw,fy+fh),\n",
    "                    #(127,0,255),\n",
    "                    (0,255,0),\n",
    "                    2)\n",
    "\n",
    "                # SMILES \n",
    "\n",
    "                smiles = smile_cascade.detectMultiScale(\n",
    "                    roi_gray, \n",
    "                    scaleFactor = 1.35, \n",
    "                    minNeighbors = 8)\n",
    "\n",
    "                for (sx, sy, sw, sh) in smiles:\n",
    "                    counter_smiles += 1\n",
    "                    cv2.rectangle(\n",
    "                        roi_color,\n",
    "                        (sx, sy),\n",
    "                        (sx + sw, sy + sh),\n",
    "                        #(255, 0, 130),\n",
    "                        #(0,220,80),\n",
    "                        (127,0,255),\n",
    "                        1)\n",
    "\n",
    "                # EYES\n",
    "\n",
    "                eyes = eye_cascade.detectMultiScale(\n",
    "                    roi_gray,\n",
    "                    scaleFactor=1.05,\n",
    "                    minNeighbors = 6)\n",
    "\n",
    "                for (ex,ey,ew,eh) in eyes:\n",
    "                    counter_eyes += 1\n",
    "                    cv2.rectangle(\n",
    "                        roi_color, \n",
    "                        (ex , ey),\n",
    "                        (ex + ew, ey + eh),\n",
    "                        (0,255,255),\n",
    "                        1)\n",
    "            \n",
    "                # save images with detected regions\n",
    "                file_to_save = file.name.replace(\".\",f\"_face{counter_faces}.\")\n",
    "                \n",
    "                #cv2.imwrite(str(pth.parent/'demo_faces'/file_to_save),img)\n",
    "                cv2.imwrite(str(new_pth/file_to_save),roi_color)\n",
    "                counter_imgs = 0\n",
    "                counter_faces = 0\n",
    "            # show the output frame\n",
    "            cv2.imshow(f\"img{file_to_save}\", img)\n",
    "            key = cv2.waitKey(100) & 0xFF\n",
    "            \n",
    "    cv2.destroyAllWindows(f\"img{file_to_save}\")\n",
    "    \n",
    "\n",
    "            \n",
    "            \n",
    "\n",
    "    \n",
    "    \"\"\"\n",
    "        # if the `q` key was pressed, break from the loop\n",
    "            if key == ord(\"q\"):\n",
    "                # do a bit of cleanup\n",
    "                cv2.destroyAllWindows()\n",
    "                break\n",
    "        \n",
    "    # do a bit of cleanup\n",
    "    cv2.destroyAllWindows()\n",
    "cv2.destroyAllWindows()\n",
    "\n",
    "\n",
    "        \"\"\"\n",
    "\n"
   ]
  },
  {
   "cell_type": "code",
   "execution_count": null,
   "id": "168dd7e3",
   "metadata": {},
   "outputs": [],
   "source": [
    "demo_imgs = Path.cwd().parent/'demo'\n",
    "demo_imgs_faces = Path.cwd().parent/demo2\n",
    "demo1 = demo_imgs/'A_0.jpg'\n",
    "demo2 = demo_imgs/'demooo_01.jpg'"
   ]
  },
  {
   "cell_type": "code",
   "execution_count": null,
   "id": "d3705e98",
   "metadata": {},
   "outputs": [],
   "source": [
    "face_cascade = cv2.CascadeClassifier('../src/haarcascade_frontalface_default.xml')\n",
    "eye_cascade = cv2.CascadeClassifier('../src/haarcascade_eye.xml')\n",
    "smile_cascade = cv2.CascadeClassifier('../src/haarcascade_smile.xml')"
   ]
  },
  {
   "cell_type": "code",
   "execution_count": null,
   "id": "71fb5cea",
   "metadata": {},
   "outputs": [],
   "source": []
  },
  {
   "cell_type": "code",
   "execution_count": null,
   "id": "741b7b09",
   "metadata": {},
   "outputs": [],
   "source": []
  },
  {
   "cell_type": "code",
   "execution_count": null,
   "id": "63fc56ed",
   "metadata": {},
   "outputs": [],
   "source": []
  },
  {
   "cell_type": "code",
   "execution_count": null,
   "id": "cfd40eed",
   "metadata": {},
   "outputs": [],
   "source": [
    "cv2.imwrite(str(pth.parent/*'_haar'/file.name),roi_color)"
   ]
  },
  {
   "cell_type": "code",
   "execution_count": null,
   "id": "11e0513a",
   "metadata": {},
   "outputs": [],
   "source": [
    "str(pth.parent/'*_haar'/file.name)"
   ]
  },
  {
   "cell_type": "code",
   "execution_count": null,
   "id": "caef1dfd",
   "metadata": {},
   "outputs": [],
   "source": []
  }
 ],
 "metadata": {
  "kernelspec": {
   "display_name": "iron",
   "language": "python",
   "name": "iron"
  },
  "language_info": {
   "codemirror_mode": {
    "name": "ipython",
    "version": 3
   },
   "file_extension": ".py",
   "mimetype": "text/x-python",
   "name": "python",
   "nbconvert_exporter": "python",
   "pygments_lexer": "ipython3",
   "version": "3.8.5"
  }
 },
 "nbformat": 4,
 "nbformat_minor": 5
}